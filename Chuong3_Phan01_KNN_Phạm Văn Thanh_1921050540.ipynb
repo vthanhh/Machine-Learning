{
 "cells": [
  {
   "cell_type": "markdown",
   "metadata": {},
   "source": [
    "\n",
    "\n",
    "## CHƯƠNG 3: HỌC CÓ GIÁM SÁT (SUPERVISED LEARNING) - Phần 01\n",
    "---\n",
    "Một thuật toán học máy được gọi là học có giám sát (supervised learning) nếu việc xây dựng mô hình dự đoán mối quan hệ giữa đầu vào và đầu ra được thực hiện dựa trên các cặp (đầu vào - input, đầu ra - label) đã biết trong tập huấn luyện. Đây là nhóm thuật toán phổ biến nhất trong các thuật toán machine learning.\n",
    "\n",
    "Tập dữ liệu học (Training data) bao gồm các quan sát (Examples, Observations), mà mỗi quan sát được gắn kèm với một giá trị đầu ra mong muốn (Label)\n",
    "<img src='pic/label.png' width='600px'>\n",
    "\n",
    "Học có giám sát bao gồm 2 loại:\n",
    "* Phân loại (Classification): Nếu nhãn (y – Target) thuộc tập rời rạc và hữu hạn\n",
    "* Hồi quy (Regression): Nếu nhãn (y – Target) là biến liên tục (các số thực) ví dụ như dự báo nhiệt độ, giá nhà, mức tiêu thụ điện năng…\n",
    "\n",
    "<img src='pic/type.png' width='500px'>\n",
    "\n",
    "---\n",
    "*Copyright Đặng Văn Nam FIT.HUMG*"
   ]
  },
  {
   "cell_type": "markdown",
   "metadata": {},
   "source": [
    "# A| Phân loại (Classification)"
   ]
  },
  {
   "cell_type": "markdown",
   "metadata": {},
   "source": [
    "## I) THUẬT TOÁN KNN\n",
    "---\n",
    "Bản chất, KNN là thuật toán đi tìm đầu ra cuả một điểm dữ liệu mới bằng cách chỉ dựa trên thông tin của K điểm dữ liệu trong tập huấn luyện gần nó nhất (K-lân cận)\n",
    "\n",
    "<img src='pic/knn.png' width='300px'>\n",
    "\n",
    "**Xác định người láng giềng gần nhất:**\n",
    "<img src='pic/knn1.png' width='400px'>\n",
    "\n",
    "**Tính khoảng cách giữa 2 điểm A-B:**\n",
    "<img src='pic/distance1_knn.png' width='400px'>\n",
    "<img src='pic/distance2_knn.png' width='200px'>\n",
    "\n",
    "Ưu điểm:\n",
    "* Độ phức tạp tính toán trong quá trình huấn luyện bằng 0\n",
    "* Việc dự đoán kết quả của dữ liệu mới rất đơn giản\n",
    "* Không cần giả sử gì về phân phối của các class\n",
    "\n",
    "Nhược điểm:\n",
    "* KNN rất nhạy với nhiễu khi K nhỏ.\n",
    "* Tính toán khoảng cách tới từng điểm dữ liệu trong trong tập huấn luyện tốn rất nhiều thời gian, đặc biệt với các CSDL có số chiều lớn và có nhiều điểm dữ liệu. K càng lớn thì độ phức tạp càng tăng.\n",
    "* Lưu toàn bộ dữ liệu trong bộ nhớ ảnh hưởng tới hiệu năng của KNN"
   ]
  },
  {
   "cell_type": "markdown",
   "metadata": {},
   "source": [
    "học có giám sát -> có gán nhãn: \n",
    "+ phân lớp\n",
    "    * nhị phân\n",
    "    * phân lớp đa lớp\n",
    "+ hồi quy"
   ]
  },
  {
   "cell_type": "markdown",
   "metadata": {},
   "source": [
    "## VÍ DỤ THỰC HÀNH 1:\n",
    "## PHÂN LOẠI HOA LAN VỚI THUẬT TOÁN KNN\n",
    "---\n",
    "Tập dữ liệu bao gồm 150 mẫu về thông số chiều rộng, chiều dài của lá hóa và cánh hoa của 3 loại hoa Lan được gán nhãn:\n",
    "* 0 - Setosa (50 mẫu)\n",
    "* 1 - Vericolor (50 mẫu)\n",
    "* 2 - Virginica (50 mẫu)\n",
    "\n",
    "<img src='pic/iris.png' width='400px'>"
   ]
  },
  {
   "cell_type": "markdown",
   "metadata": {},
   "source": [
    "### 1. Đọc dữ liệu mẫu từ Sklearn\n",
    "* X_iris: chứa các feature đầu vào (input)\n",
    "* y_iris: chứa label đầu ra (target)"
   ]
  },
  {
   "cell_type": "code",
   "execution_count": 1,
   "metadata": {},
   "outputs": [],
   "source": [
    "#Gọi các thư viện sử dụng:\n",
    "import pandas as pd\n",
    "import numpy as np\n",
    "import matplotlib.pyplot as plt\n",
    "import seaborn as sns\n",
    "\n",
    "color1=sns.color_palette()\n",
    "\n",
    "#-------------\n",
    "import warnings\n",
    "warnings.filterwarnings(\"ignore\")"
   ]
  },
  {
   "cell_type": "code",
   "execution_count": 2,
   "metadata": {},
   "outputs": [
    {
     "name": "stdout",
     "output_type": "stream",
     "text": [
      "<class 'pandas.core.frame.DataFrame'>\n",
      "RangeIndex: 150 entries, 0 to 149\n",
      "Data columns (total 5 columns):\n",
      " #   Column             Non-Null Count  Dtype  \n",
      "---  ------             --------------  -----  \n",
      " 0   sepal length (cm)  150 non-null    float64\n",
      " 1   sepal width (cm)   150 non-null    float64\n",
      " 2   petal length (cm)  150 non-null    float64\n",
      " 3   petal width (cm)   150 non-null    float64\n",
      " 4   label              150 non-null    int32  \n",
      "dtypes: float64(4), int32(1)\n",
      "memory usage: 5.4 KB\n"
     ]
    }
   ],
   "source": [
    "#1. ĐỌC DỮ LIỆU MẪU VÀO BIẾN DATAFRAME (Chương 2)\n",
    "#Đọc tập dữ liệu mẫu Iris Dataset từ thư viện Sklearn:\n",
    "from sklearn.datasets import load_iris\n",
    "\n",
    "data = load_iris()\n",
    "df_iris = pd.DataFrame(data['data'], columns=data['feature_names'])\n",
    "df_iris['label'] = data['target']\n",
    "df_iris.info()"
   ]
  },
  {
   "cell_type": "code",
   "execution_count": 3,
   "metadata": {},
   "outputs": [
    {
     "data": {
      "text/html": [
       "<div>\n",
       "<style scoped>\n",
       "    .dataframe tbody tr th:only-of-type {\n",
       "        vertical-align: middle;\n",
       "    }\n",
       "\n",
       "    .dataframe tbody tr th {\n",
       "        vertical-align: top;\n",
       "    }\n",
       "\n",
       "    .dataframe thead th {\n",
       "        text-align: right;\n",
       "    }\n",
       "</style>\n",
       "<table border=\"1\" class=\"dataframe\">\n",
       "  <thead>\n",
       "    <tr style=\"text-align: right;\">\n",
       "      <th></th>\n",
       "      <th>sepal length (cm)</th>\n",
       "      <th>sepal width (cm)</th>\n",
       "      <th>petal length (cm)</th>\n",
       "      <th>petal width (cm)</th>\n",
       "      <th>label</th>\n",
       "    </tr>\n",
       "  </thead>\n",
       "  <tbody>\n",
       "    <tr>\n",
       "      <th>0</th>\n",
       "      <td>5.1</td>\n",
       "      <td>3.5</td>\n",
       "      <td>1.4</td>\n",
       "      <td>0.2</td>\n",
       "      <td>0</td>\n",
       "    </tr>\n",
       "    <tr>\n",
       "      <th>1</th>\n",
       "      <td>4.9</td>\n",
       "      <td>3.0</td>\n",
       "      <td>1.4</td>\n",
       "      <td>0.2</td>\n",
       "      <td>0</td>\n",
       "    </tr>\n",
       "    <tr>\n",
       "      <th>2</th>\n",
       "      <td>4.7</td>\n",
       "      <td>3.2</td>\n",
       "      <td>1.3</td>\n",
       "      <td>0.2</td>\n",
       "      <td>0</td>\n",
       "    </tr>\n",
       "    <tr>\n",
       "      <th>3</th>\n",
       "      <td>4.6</td>\n",
       "      <td>3.1</td>\n",
       "      <td>1.5</td>\n",
       "      <td>0.2</td>\n",
       "      <td>0</td>\n",
       "    </tr>\n",
       "    <tr>\n",
       "      <th>4</th>\n",
       "      <td>5.0</td>\n",
       "      <td>3.6</td>\n",
       "      <td>1.4</td>\n",
       "      <td>0.2</td>\n",
       "      <td>0</td>\n",
       "    </tr>\n",
       "  </tbody>\n",
       "</table>\n",
       "</div>"
      ],
      "text/plain": [
       "   sepal length (cm)  sepal width (cm)  petal length (cm)  petal width (cm)  \\\n",
       "0                5.1               3.5                1.4               0.2   \n",
       "1                4.9               3.0                1.4               0.2   \n",
       "2                4.7               3.2                1.3               0.2   \n",
       "3                4.6               3.1                1.5               0.2   \n",
       "4                5.0               3.6                1.4               0.2   \n",
       "\n",
       "   label  \n",
       "0      0  \n",
       "1      0  \n",
       "2      0  \n",
       "3      0  \n",
       "4      0  "
      ]
     },
     "execution_count": 3,
     "metadata": {},
     "output_type": "execute_result"
    }
   ],
   "source": [
    "#Hiển thị 5 dòng đâu tiên của dữ liệu\n",
    "df_iris.head()"
   ]
  },
  {
   "cell_type": "code",
   "execution_count": 4,
   "metadata": {},
   "outputs": [
    {
     "data": {
      "text/html": [
       "<div>\n",
       "<style scoped>\n",
       "    .dataframe tbody tr th:only-of-type {\n",
       "        vertical-align: middle;\n",
       "    }\n",
       "\n",
       "    .dataframe tbody tr th {\n",
       "        vertical-align: top;\n",
       "    }\n",
       "\n",
       "    .dataframe thead th {\n",
       "        text-align: right;\n",
       "    }\n",
       "</style>\n",
       "<table border=\"1\" class=\"dataframe\">\n",
       "  <thead>\n",
       "    <tr style=\"text-align: right;\">\n",
       "      <th></th>\n",
       "      <th>sepal length (cm)</th>\n",
       "      <th>sepal width (cm)</th>\n",
       "      <th>petal length (cm)</th>\n",
       "      <th>petal width (cm)</th>\n",
       "      <th>label</th>\n",
       "    </tr>\n",
       "  </thead>\n",
       "  <tbody>\n",
       "    <tr>\n",
       "      <th>98</th>\n",
       "      <td>5.1</td>\n",
       "      <td>2.5</td>\n",
       "      <td>3.0</td>\n",
       "      <td>1.1</td>\n",
       "      <td>1</td>\n",
       "    </tr>\n",
       "    <tr>\n",
       "      <th>99</th>\n",
       "      <td>5.7</td>\n",
       "      <td>2.8</td>\n",
       "      <td>4.1</td>\n",
       "      <td>1.3</td>\n",
       "      <td>1</td>\n",
       "    </tr>\n",
       "    <tr>\n",
       "      <th>100</th>\n",
       "      <td>6.3</td>\n",
       "      <td>3.3</td>\n",
       "      <td>6.0</td>\n",
       "      <td>2.5</td>\n",
       "      <td>2</td>\n",
       "    </tr>\n",
       "    <tr>\n",
       "      <th>101</th>\n",
       "      <td>5.8</td>\n",
       "      <td>2.7</td>\n",
       "      <td>5.1</td>\n",
       "      <td>1.9</td>\n",
       "      <td>2</td>\n",
       "    </tr>\n",
       "    <tr>\n",
       "      <th>102</th>\n",
       "      <td>7.1</td>\n",
       "      <td>3.0</td>\n",
       "      <td>5.9</td>\n",
       "      <td>2.1</td>\n",
       "      <td>2</td>\n",
       "    </tr>\n",
       "  </tbody>\n",
       "</table>\n",
       "</div>"
      ],
      "text/plain": [
       "     sepal length (cm)  sepal width (cm)  petal length (cm)  petal width (cm)  \\\n",
       "98                 5.1               2.5                3.0               1.1   \n",
       "99                 5.7               2.8                4.1               1.3   \n",
       "100                6.3               3.3                6.0               2.5   \n",
       "101                5.8               2.7                5.1               1.9   \n",
       "102                7.1               3.0                5.9               2.1   \n",
       "\n",
       "     label  \n",
       "98       1  \n",
       "99       1  \n",
       "100      2  \n",
       "101      2  \n",
       "102      2  "
      ]
     },
     "execution_count": 4,
     "metadata": {},
     "output_type": "execute_result"
    }
   ],
   "source": [
    "df_iris.iloc[98:103,:]"
   ]
  },
  {
   "cell_type": "code",
   "execution_count": 5,
   "metadata": {},
   "outputs": [
    {
     "data": {
      "text/html": [
       "<div>\n",
       "<style scoped>\n",
       "    .dataframe tbody tr th:only-of-type {\n",
       "        vertical-align: middle;\n",
       "    }\n",
       "\n",
       "    .dataframe tbody tr th {\n",
       "        vertical-align: top;\n",
       "    }\n",
       "\n",
       "    .dataframe thead th {\n",
       "        text-align: right;\n",
       "    }\n",
       "</style>\n",
       "<table border=\"1\" class=\"dataframe\">\n",
       "  <thead>\n",
       "    <tr style=\"text-align: right;\">\n",
       "      <th></th>\n",
       "      <th>sepal length (cm)</th>\n",
       "      <th>sepal width (cm)</th>\n",
       "      <th>petal length (cm)</th>\n",
       "      <th>petal width (cm)</th>\n",
       "      <th>label</th>\n",
       "    </tr>\n",
       "  </thead>\n",
       "  <tbody>\n",
       "    <tr>\n",
       "      <th>145</th>\n",
       "      <td>6.7</td>\n",
       "      <td>3.0</td>\n",
       "      <td>5.2</td>\n",
       "      <td>2.3</td>\n",
       "      <td>2</td>\n",
       "    </tr>\n",
       "    <tr>\n",
       "      <th>146</th>\n",
       "      <td>6.3</td>\n",
       "      <td>2.5</td>\n",
       "      <td>5.0</td>\n",
       "      <td>1.9</td>\n",
       "      <td>2</td>\n",
       "    </tr>\n",
       "    <tr>\n",
       "      <th>147</th>\n",
       "      <td>6.5</td>\n",
       "      <td>3.0</td>\n",
       "      <td>5.2</td>\n",
       "      <td>2.0</td>\n",
       "      <td>2</td>\n",
       "    </tr>\n",
       "    <tr>\n",
       "      <th>148</th>\n",
       "      <td>6.2</td>\n",
       "      <td>3.4</td>\n",
       "      <td>5.4</td>\n",
       "      <td>2.3</td>\n",
       "      <td>2</td>\n",
       "    </tr>\n",
       "    <tr>\n",
       "      <th>149</th>\n",
       "      <td>5.9</td>\n",
       "      <td>3.0</td>\n",
       "      <td>5.1</td>\n",
       "      <td>1.8</td>\n",
       "      <td>2</td>\n",
       "    </tr>\n",
       "  </tbody>\n",
       "</table>\n",
       "</div>"
      ],
      "text/plain": [
       "     sepal length (cm)  sepal width (cm)  petal length (cm)  petal width (cm)  \\\n",
       "145                6.7               3.0                5.2               2.3   \n",
       "146                6.3               2.5                5.0               1.9   \n",
       "147                6.5               3.0                5.2               2.0   \n",
       "148                6.2               3.4                5.4               2.3   \n",
       "149                5.9               3.0                5.1               1.8   \n",
       "\n",
       "     label  \n",
       "145      2  \n",
       "146      2  \n",
       "147      2  \n",
       "148      2  \n",
       "149      2  "
      ]
     },
     "execution_count": 5,
     "metadata": {},
     "output_type": "execute_result"
    }
   ],
   "source": [
    "#Hiển thị 5 dòng cuối cùng của dữ liệu:\n",
    "df_iris.tail()"
   ]
  },
  {
   "cell_type": "code",
   "execution_count": 6,
   "metadata": {},
   "outputs": [
    {
     "data": {
      "text/html": [
       "<div>\n",
       "<style scoped>\n",
       "    .dataframe tbody tr th:only-of-type {\n",
       "        vertical-align: middle;\n",
       "    }\n",
       "\n",
       "    .dataframe tbody tr th {\n",
       "        vertical-align: top;\n",
       "    }\n",
       "\n",
       "    .dataframe thead th {\n",
       "        text-align: right;\n",
       "    }\n",
       "</style>\n",
       "<table border=\"1\" class=\"dataframe\">\n",
       "  <thead>\n",
       "    <tr style=\"text-align: right;\">\n",
       "      <th></th>\n",
       "      <th>sepal length (cm)</th>\n",
       "      <th>sepal width (cm)</th>\n",
       "      <th>petal length (cm)</th>\n",
       "      <th>petal width (cm)</th>\n",
       "      <th>label</th>\n",
       "    </tr>\n",
       "  </thead>\n",
       "  <tbody>\n",
       "    <tr>\n",
       "      <th>count</th>\n",
       "      <td>150.000000</td>\n",
       "      <td>150.000000</td>\n",
       "      <td>150.000000</td>\n",
       "      <td>150.000000</td>\n",
       "      <td>150.000000</td>\n",
       "    </tr>\n",
       "    <tr>\n",
       "      <th>mean</th>\n",
       "      <td>5.843333</td>\n",
       "      <td>3.057333</td>\n",
       "      <td>3.758000</td>\n",
       "      <td>1.199333</td>\n",
       "      <td>1.000000</td>\n",
       "    </tr>\n",
       "    <tr>\n",
       "      <th>std</th>\n",
       "      <td>0.828066</td>\n",
       "      <td>0.435866</td>\n",
       "      <td>1.765298</td>\n",
       "      <td>0.762238</td>\n",
       "      <td>0.819232</td>\n",
       "    </tr>\n",
       "    <tr>\n",
       "      <th>min</th>\n",
       "      <td>4.300000</td>\n",
       "      <td>2.000000</td>\n",
       "      <td>1.000000</td>\n",
       "      <td>0.100000</td>\n",
       "      <td>0.000000</td>\n",
       "    </tr>\n",
       "    <tr>\n",
       "      <th>25%</th>\n",
       "      <td>5.100000</td>\n",
       "      <td>2.800000</td>\n",
       "      <td>1.600000</td>\n",
       "      <td>0.300000</td>\n",
       "      <td>0.000000</td>\n",
       "    </tr>\n",
       "    <tr>\n",
       "      <th>50%</th>\n",
       "      <td>5.800000</td>\n",
       "      <td>3.000000</td>\n",
       "      <td>4.350000</td>\n",
       "      <td>1.300000</td>\n",
       "      <td>1.000000</td>\n",
       "    </tr>\n",
       "    <tr>\n",
       "      <th>75%</th>\n",
       "      <td>6.400000</td>\n",
       "      <td>3.300000</td>\n",
       "      <td>5.100000</td>\n",
       "      <td>1.800000</td>\n",
       "      <td>2.000000</td>\n",
       "    </tr>\n",
       "    <tr>\n",
       "      <th>max</th>\n",
       "      <td>7.900000</td>\n",
       "      <td>4.400000</td>\n",
       "      <td>6.900000</td>\n",
       "      <td>2.500000</td>\n",
       "      <td>2.000000</td>\n",
       "    </tr>\n",
       "  </tbody>\n",
       "</table>\n",
       "</div>"
      ],
      "text/plain": [
       "       sepal length (cm)  sepal width (cm)  petal length (cm)  \\\n",
       "count         150.000000        150.000000         150.000000   \n",
       "mean            5.843333          3.057333           3.758000   \n",
       "std             0.828066          0.435866           1.765298   \n",
       "min             4.300000          2.000000           1.000000   \n",
       "25%             5.100000          2.800000           1.600000   \n",
       "50%             5.800000          3.000000           4.350000   \n",
       "75%             6.400000          3.300000           5.100000   \n",
       "max             7.900000          4.400000           6.900000   \n",
       "\n",
       "       petal width (cm)       label  \n",
       "count        150.000000  150.000000  \n",
       "mean           1.199333    1.000000  \n",
       "std            0.762238    0.819232  \n",
       "min            0.100000    0.000000  \n",
       "25%            0.300000    0.000000  \n",
       "50%            1.300000    1.000000  \n",
       "75%            1.800000    2.000000  \n",
       "max            2.500000    2.000000  "
      ]
     },
     "execution_count": 6,
     "metadata": {},
     "output_type": "execute_result"
    }
   ],
   "source": [
    "#Quan sát đặc trưng thống kê của tập dữ liệu\n",
    "df_iris.describe()"
   ]
  },
  {
   "cell_type": "code",
   "execution_count": 7,
   "metadata": {},
   "outputs": [
    {
     "data": {
      "image/png": "[encoded data removed]",
      "text/plain": [
       "<Figure size 936x360 with 1 Axes>"
      ]
     },
     "metadata": {
      "needs_background": "light"
     },
     "output_type": "display_data"
    }
   ],
   "source": [
    "#View dữ liệu các thuộc tính độc lập\n",
    "import matplotlib.pyplot as plt\n",
    "fig = plt.figure(figsize=(13,5))\n",
    "plt.plot(df_iris.iloc[:,:4])\n",
    "plt.legend(['sepal length (cm)',\n",
    "            'sepal width (cm)',\n",
    "            'petal length (cm)',\n",
    "            'petal width (cm)'])\n",
    "plt.grid(True)\n",
    "plt.show()"
   ]
  },
  {
   "cell_type": "code",
   "execution_count": 9,
   "metadata": {},
   "outputs": [
    {
     "name": "stdout",
     "output_type": "stream",
     "text": [
      "0    50\n",
      "1    50\n",
      "2    50\n",
      "Name: label, dtype: int64\n"
     ]
    },
    {
     "data": {
      "image/png": "[encoded data removed]",
      "text/plain": [
       "<Figure size 864x288 with 2 Axes>"
      ]
     },
     "metadata": {
      "needs_background": "light"
     },
     "output_type": "display_data"
    }
   ],
   "source": [
    "#Kiểm tra cân bằng dữ liệu\n",
    "x = df_iris['label'].value_counts()\n",
    "print(x)\n",
    "#Trực quan hóa số liệu\n",
    "label=['0: Setosa', '1: Versicolor', '2:Virginica']\n",
    "fig = plt.figure(figsize=(12,4))\n",
    "plt.suptitle('SỐ LƯỢNG MẪU CHO MỖI LỚP HOA LAN')\n",
    "plt.subplot(1,2,1)\n",
    "plt.pie(x, labels=label,\n",
    "        autopct='%.1f',\n",
    "        colors = color1,\n",
    "        wedgeprops=dict(width=0.7,edgecolor='w'))\n",
    "\n",
    "plt.subplot(1,2,2)\n",
    "plt.bar(label,x,\n",
    "        color=color1)\n",
    "plt.grid(True)\n",
    "plt.show()\n",
    "\n",
    "#--->Tập dữ liệu cân bằng, mỗi lớp chiếm 33.3%\n",
    "# 150 mẫu chia đều cho 3 mẫu"
   ]
  },
  {
   "cell_type": "markdown",
   "metadata": {},
   "source": []
  },
  {
   "cell_type": "markdown",
   "metadata": {},
   "source": [
    "**Phân tách biến độc lập và biến phụ thuộc:**\n",
    "* Biến độc lập (feature input):  \n",
    "    * 'sepal length (cm)',\n",
    "    * 'sepal width (cm)',\n",
    "    * 'petal length (cm)',\n",
    "    * 'petal width (cm)'\n",
    "* Biến phụ thuộc (Target/Label): label"
   ]
  },
  {
   "cell_type": "code",
   "execution_count": 10,
   "metadata": {},
   "outputs": [
    {
     "data": {
      "text/plain": [
       "Index(['sepal length (cm)', 'sepal width (cm)', 'petal length (cm)',\n",
       "       'petal width (cm)', 'label'],\n",
       "      dtype='object')"
      ]
     },
     "execution_count": 10,
     "metadata": {},
     "output_type": "execute_result"
    }
   ],
   "source": [
    "df_iris.columns"
   ]
  },
  {
   "cell_type": "code",
   "execution_count": 11,
   "metadata": {},
   "outputs": [
    {
     "name": "stdout",
     "output_type": "stream",
     "text": [
      "Kích thước biến độc lập X(features): (150, 4)\n",
      "Kích thước biến phụ thuộc y(target)   : (150,)\n"
     ]
    }
   ],
   "source": [
    "#Phân tách Biến độc lập:\n",
    "X_iris = df_iris.loc[:,['sepal length (cm)', \n",
    "                        'sepal width (cm)', \n",
    "                        'petal length (cm)',\n",
    "                        'petal width (cm)']].values\n",
    "\n",
    "#Phân tách biến phụ thuộc:\n",
    "y_iris = df_iris.loc[:,['label']].values.ravel()\n",
    "\n",
    "print('Kích thước biến độc lập X(features):', X_iris.shape)\n",
    "print('Kích thước biến phụ thuộc y(target)   :', y_iris.shape)"
   ]
  },
  {
   "cell_type": "code",
   "execution_count": 12,
   "metadata": {
    "scrolled": false
   },
   "outputs": [
    {
     "data": {
      "text/plain": [
       "array([[5.1, 3.5, 1.4, 0.2],\n",
       "       [4.9, 3. , 1.4, 0.2],\n",
       "       [4.7, 3.2, 1.3, 0.2],\n",
       "       [4.6, 3.1, 1.5, 0.2],\n",
       "       [5. , 3.6, 1.4, 0.2],\n",
       "       [5.4, 3.9, 1.7, 0.4],\n",
       "       [4.6, 3.4, 1.4, 0.3],\n",
       "       [5. , 3.4, 1.5, 0.2],\n",
       "       [4.4, 2.9, 1.4, 0.2],\n",
       "       [4.9, 3.1, 1.5, 0.1],\n",
       "       [5.4, 3.7, 1.5, 0.2],\n",
       "       [4.8, 3.4, 1.6, 0.2],\n",
       "       [4.8, 3. , 1.4, 0.1],\n",
       "       [4.3, 3. , 1.1, 0.1],\n",
       "       [5.8, 4. , 1.2, 0.2],\n",
       "       [5.7, 4.4, 1.5, 0.4],\n",
       "       [5.4, 3.9, 1.3, 0.4],\n",
       "       [5.1, 3.5, 1.4, 0.3],\n",
       "       [5.7, 3.8, 1.7, 0.3],\n",
       "       [5.1, 3.8, 1.5, 0.3],\n",
       "       [5.4, 3.4, 1.7, 0.2],\n",
       "       [5.1, 3.7, 1.5, 0.4],\n",
       "       [4.6, 3.6, 1. , 0.2],\n",
       "       [5.1, 3.3, 1.7, 0.5],\n",
       "       [4.8, 3.4, 1.9, 0.2],\n",
       "       [5. , 3. , 1.6, 0.2],\n",
       "       [5. , 3.4, 1.6, 0.4],\n",
       "       [5.2, 3.5, 1.5, 0.2],\n",
       "       [5.2, 3.4, 1.4, 0.2],\n",
       "       [4.7, 3.2, 1.6, 0.2],\n",
       "       [4.8, 3.1, 1.6, 0.2],\n",
       "       [5.4, 3.4, 1.5, 0.4],\n",
       "       [5.2, 4.1, 1.5, 0.1],\n",
       "       [5.5, 4.2, 1.4, 0.2],\n",
       "       [4.9, 3.1, 1.5, 0.2],\n",
       "       [5. , 3.2, 1.2, 0.2],\n",
       "       [5.5, 3.5, 1.3, 0.2],\n",
       "       [4.9, 3.6, 1.4, 0.1],\n",
       "       [4.4, 3. , 1.3, 0.2],\n",
       "       [5.1, 3.4, 1.5, 0.2],\n",
       "       [5. , 3.5, 1.3, 0.3],\n",
       "       [4.5, 2.3, 1.3, 0.3],\n",
       "       [4.4, 3.2, 1.3, 0.2],\n",
       "       [5. , 3.5, 1.6, 0.6],\n",
       "       [5.1, 3.8, 1.9, 0.4],\n",
       "       [4.8, 3. , 1.4, 0.3],\n",
       "       [5.1, 3.8, 1.6, 0.2],\n",
       "       [4.6, 3.2, 1.4, 0.2],\n",
       "       [5.3, 3.7, 1.5, 0.2],\n",
       "       [5. , 3.3, 1.4, 0.2],\n",
       "       [7. , 3.2, 4.7, 1.4],\n",
       "       [6.4, 3.2, 4.5, 1.5],\n",
       "       [6.9, 3.1, 4.9, 1.5],\n",
       "       [5.5, 2.3, 4. , 1.3],\n",
       "       [6.5, 2.8, 4.6, 1.5],\n",
       "       [5.7, 2.8, 4.5, 1.3],\n",
       "       [6.3, 3.3, 4.7, 1.6],\n",
       "       [4.9, 2.4, 3.3, 1. ],\n",
       "       [6.6, 2.9, 4.6, 1.3],\n",
       "       [5.2, 2.7, 3.9, 1.4],\n",
       "       [5. , 2. , 3.5, 1. ],\n",
       "       [5.9, 3. , 4.2, 1.5],\n",
       "       [6. , 2.2, 4. , 1. ],\n",
       "       [6.1, 2.9, 4.7, 1.4],\n",
       "       [5.6, 2.9, 3.6, 1.3],\n",
       "       [6.7, 3.1, 4.4, 1.4],\n",
       "       [5.6, 3. , 4.5, 1.5],\n",
       "       [5.8, 2.7, 4.1, 1. ],\n",
       "       [6.2, 2.2, 4.5, 1.5],\n",
       "       [5.6, 2.5, 3.9, 1.1],\n",
       "       [5.9, 3.2, 4.8, 1.8],\n",
       "       [6.1, 2.8, 4. , 1.3],\n",
       "       [6.3, 2.5, 4.9, 1.5],\n",
       "       [6.1, 2.8, 4.7, 1.2],\n",
       "       [6.4, 2.9, 4.3, 1.3],\n",
       "       [6.6, 3. , 4.4, 1.4],\n",
       "       [6.8, 2.8, 4.8, 1.4],\n",
       "       [6.7, 3. , 5. , 1.7],\n",
       "       [6. , 2.9, 4.5, 1.5],\n",
       "       [5.7, 2.6, 3.5, 1. ],\n",
       "       [5.5, 2.4, 3.8, 1.1],\n",
       "       [5.5, 2.4, 3.7, 1. ],\n",
       "       [5.8, 2.7, 3.9, 1.2],\n",
       "       [6. , 2.7, 5.1, 1.6],\n",
       "       [5.4, 3. , 4.5, 1.5],\n",
       "       [6. , 3.4, 4.5, 1.6],\n",
       "       [6.7, 3.1, 4.7, 1.5],\n",
       "       [6.3, 2.3, 4.4, 1.3],\n",
       "       [5.6, 3. , 4.1, 1.3],\n",
       "       [5.5, 2.5, 4. , 1.3],\n",
       "       [5.5, 2.6, 4.4, 1.2],\n",
       "       [6.1, 3. , 4.6, 1.4],\n",
       "       [5.8, 2.6, 4. , 1.2],\n",
       "       [5. , 2.3, 3.3, 1. ],\n",
       "       [5.6, 2.7, 4.2, 1.3],\n",
       "       [5.7, 3. , 4.2, 1.2],\n",
       "       [5.7, 2.9, 4.2, 1.3],\n",
       "       [6.2, 2.9, 4.3, 1.3],\n",
       "       [5.1, 2.5, 3. , 1.1],\n",
       "       [5.7, 2.8, 4.1, 1.3],\n",
       "       [6.3, 3.3, 6. , 2.5],\n",
       "       [5.8, 2.7, 5.1, 1.9],\n",
       "       [7.1, 3. , 5.9, 2.1],\n",
       "       [6.3, 2.9, 5.6, 1.8],\n",
       "       [6.5, 3. , 5.8, 2.2],\n",
       "       [7.6, 3. , 6.6, 2.1],\n",
       "       [4.9, 2.5, 4.5, 1.7],\n",
       "       [7.3, 2.9, 6.3, 1.8],\n",
       "       [6.7, 2.5, 5.8, 1.8],\n",
       "       [7.2, 3.6, 6.1, 2.5],\n",
       "       [6.5, 3.2, 5.1, 2. ],\n",
       "       [6.4, 2.7, 5.3, 1.9],\n",
       "       [6.8, 3. , 5.5, 2.1],\n",
       "       [5.7, 2.5, 5. , 2. ],\n",
       "       [5.8, 2.8, 5.1, 2.4],\n",
       "       [6.4, 3.2, 5.3, 2.3],\n",
       "       [6.5, 3. , 5.5, 1.8],\n",
       "       [7.7, 3.8, 6.7, 2.2],\n",
       "       [7.7, 2.6, 6.9, 2.3],\n",
       "       [6. , 2.2, 5. , 1.5],\n",
       "       [6.9, 3.2, 5.7, 2.3],\n",
       "       [5.6, 2.8, 4.9, 2. ],\n",
       "       [7.7, 2.8, 6.7, 2. ],\n",
       "       [6.3, 2.7, 4.9, 1.8],\n",
       "       [6.7, 3.3, 5.7, 2.1],\n",
       "       [7.2, 3.2, 6. , 1.8],\n",
       "       [6.2, 2.8, 4.8, 1.8],\n",
       "       [6.1, 3. , 4.9, 1.8],\n",
       "       [6.4, 2.8, 5.6, 2.1],\n",
       "       [7.2, 3. , 5.8, 1.6],\n",
       "       [7.4, 2.8, 6.1, 1.9],\n",
       "       [7.9, 3.8, 6.4, 2. ],\n",
       "       [6.4, 2.8, 5.6, 2.2],\n",
       "       [6.3, 2.8, 5.1, 1.5],\n",
       "       [6.1, 2.6, 5.6, 1.4],\n",
       "       [7.7, 3. , 6.1, 2.3],\n",
       "       [6.3, 3.4, 5.6, 2.4],\n",
       "       [6.4, 3.1, 5.5, 1.8],\n",
       "       [6. , 3. , 4.8, 1.8],\n",
       "       [6.9, 3.1, 5.4, 2.1],\n",
       "       [6.7, 3.1, 5.6, 2.4],\n",
       "       [6.9, 3.1, 5.1, 2.3],\n",
       "       [5.8, 2.7, 5.1, 1.9],\n",
       "       [6.8, 3.2, 5.9, 2.3],\n",
       "       [6.7, 3.3, 5.7, 2.5],\n",
       "       [6.7, 3. , 5.2, 2.3],\n",
       "       [6.3, 2.5, 5. , 1.9],\n",
       "       [6.5, 3. , 5.2, 2. ],\n",
       "       [6.2, 3.4, 5.4, 2.3],\n",
       "       [5.9, 3. , 5.1, 1.8]])"
      ]
     },
     "execution_count": 12,
     "metadata": {},
     "output_type": "execute_result"
    }
   ],
   "source": [
    "#Biến độc lập:\n",
    "X_iris"
   ]
  },
  {
   "cell_type": "code",
   "execution_count": 13,
   "metadata": {},
   "outputs": [
    {
     "data": {
      "text/plain": [
       "array([0, 0, 0, 0, 0, 0, 0, 0, 0, 0, 0, 0, 0, 0, 0, 0, 0, 0, 0, 0, 0, 0,\n",
       "       0, 0, 0, 0, 0, 0, 0, 0, 0, 0, 0, 0, 0, 0, 0, 0, 0, 0, 0, 0, 0, 0,\n",
       "       0, 0, 0, 0, 0, 0, 1, 1, 1, 1, 1, 1, 1, 1, 1, 1, 1, 1, 1, 1, 1, 1,\n",
       "       1, 1, 1, 1, 1, 1, 1, 1, 1, 1, 1, 1, 1, 1, 1, 1, 1, 1, 1, 1, 1, 1,\n",
       "       1, 1, 1, 1, 1, 1, 1, 1, 1, 1, 1, 1, 2, 2, 2, 2, 2, 2, 2, 2, 2, 2,\n",
       "       2, 2, 2, 2, 2, 2, 2, 2, 2, 2, 2, 2, 2, 2, 2, 2, 2, 2, 2, 2, 2, 2,\n",
       "       2, 2, 2, 2, 2, 2, 2, 2, 2, 2, 2, 2, 2, 2, 2, 2, 2, 2])"
      ]
     },
     "execution_count": 13,
     "metadata": {},
     "output_type": "execute_result"
    }
   ],
   "source": [
    "#Biến phụ thuộc:\n",
    "y_iris"
   ]
  },
  {
   "cell_type": "code",
   "execution_count": 14,
   "metadata": {},
   "outputs": [
    {
     "name": "stdout",
     "output_type": "stream",
     "text": [
      "Bộ dữ liệu 1)   [4.9 3.  1.4 0.2] -- 0\n",
      "Bộ dữ liệu 55)  [5.7 2.8 4.5 1.3] -- 1\n",
      "Bộ dữ liệu 111) [6.4 2.7 5.3 1.9] -- 2\n"
     ]
    }
   ],
   "source": [
    "#Hiển thị dữ liệu 1 vài mẫu\n",
    "print('Bộ dữ liệu 1)  ', X_iris[1,:], '--',y_iris[1])\n",
    "print('Bộ dữ liệu 55) ', X_iris[55,:], '--',y_iris[55])\n",
    "print('Bộ dữ liệu 111)', X_iris[111,:], '--',y_iris[111])"
   ]
  },
  {
   "cell_type": "markdown",
   "metadata": {},
   "source": [
    "### 2. Tách tập dữ liệu ra tập Training - Test: \n",
    "---\n",
    "* Training: dùng để huấn luyện mô hình (70%)\n",
    "* Test: dùng để kiểm thử mô hình (30%)"
   ]
  },
  {
   "cell_type": "code",
   "execution_count": 15,
   "metadata": {},
   "outputs": [
    {
     "name": "stdout",
     "output_type": "stream",
     "text": [
      "1. Kích thước tập Training:  105\n",
      "2. Kích thước tập Test    :  45\n"
     ]
    }
   ],
   "source": [
    "from sklearn.model_selection import train_test_split\n",
    "X_train, X_test, y_train, y_test = train_test_split(X_iris, \n",
    "                                                    y_iris,\n",
    "                                                    test_size=0.3,\n",
    "                                                    random_state=42)\n",
    "\n",
    "print(\"1. Kích thước tập Training: \", len(y_train))\n",
    "print(\"2. Kích thước tập Test    : \",len(y_test))\n",
    "# random_state mục đích: lấy ngẫu nhiên 105 mẫu trong 150 mẫu (40 -> 60)"
   ]
  },
  {
   "cell_type": "code",
   "execution_count": null,
   "metadata": {},
   "outputs": [],
   "source": []
  },
  {
   "cell_type": "code",
   "execution_count": 16,
   "metadata": {},
   "outputs": [
    {
     "data": {
      "text/plain": [
       "array([[6.1, 2.8, 4.7, 1.2],\n",
       "       [5.7, 3.8, 1.7, 0.3],\n",
       "       [7.7, 2.6, 6.9, 2.3],\n",
       "       [6. , 2.9, 4.5, 1.5],\n",
       "       [6.8, 2.8, 4.8, 1.4],\n",
       "       [5.4, 3.4, 1.5, 0.4],\n",
       "       [5.6, 2.9, 3.6, 1.3],\n",
       "       [6.9, 3.1, 5.1, 2.3],\n",
       "       [6.2, 2.2, 4.5, 1.5],\n",
       "       [5.8, 2.7, 3.9, 1.2],\n",
       "       [6.5, 3.2, 5.1, 2. ],\n",
       "       [4.8, 3. , 1.4, 0.1],\n",
       "       [5.5, 3.5, 1.3, 0.2],\n",
       "       [4.9, 3.1, 1.5, 0.1],\n",
       "       [5.1, 3.8, 1.5, 0.3],\n",
       "       [6.3, 3.3, 4.7, 1.6],\n",
       "       [6.5, 3. , 5.8, 2.2],\n",
       "       [5.6, 2.5, 3.9, 1.1],\n",
       "       [5.7, 2.8, 4.5, 1.3],\n",
       "       [6.4, 2.8, 5.6, 2.2],\n",
       "       [4.7, 3.2, 1.6, 0.2],\n",
       "       [6.1, 3. , 4.9, 1.8],\n",
       "       [5. , 3.4, 1.6, 0.4],\n",
       "       [6.4, 2.8, 5.6, 2.1],\n",
       "       [7.9, 3.8, 6.4, 2. ],\n",
       "       [6.7, 3. , 5.2, 2.3],\n",
       "       [6.7, 2.5, 5.8, 1.8],\n",
       "       [6.8, 3.2, 5.9, 2.3],\n",
       "       [4.8, 3. , 1.4, 0.3],\n",
       "       [4.8, 3.1, 1.6, 0.2],\n",
       "       [4.6, 3.6, 1. , 0.2],\n",
       "       [5.7, 4.4, 1.5, 0.4],\n",
       "       [6.7, 3.1, 4.4, 1.4],\n",
       "       [4.8, 3.4, 1.6, 0.2],\n",
       "       [4.4, 3.2, 1.3, 0.2],\n",
       "       [6.3, 2.5, 5. , 1.9],\n",
       "       [6.4, 3.2, 4.5, 1.5],\n",
       "       [5.2, 3.5, 1.5, 0.2],\n",
       "       [5. , 3.6, 1.4, 0.2],\n",
       "       [5.2, 4.1, 1.5, 0.1],\n",
       "       [5.8, 2.7, 5.1, 1.9],\n",
       "       [6. , 3.4, 4.5, 1.6],\n",
       "       [6.7, 3.1, 4.7, 1.5],\n",
       "       [5.4, 3.9, 1.3, 0.4],\n",
       "       [5.4, 3.7, 1.5, 0.2]])"
      ]
     },
     "execution_count": 16,
     "metadata": {},
     "output_type": "execute_result"
    }
   ],
   "source": [
    "#Các mẫu Dữ liệu trong tập X_test:\n",
    "X_test"
   ]
  },
  {
   "cell_type": "code",
   "execution_count": 17,
   "metadata": {},
   "outputs": [
    {
     "name": "stdout",
     "output_type": "stream",
     "text": [
      "[1 0 2 1 1 0 1 2 1 1 2 0 0 0 0 1 2 1 1 2 0 2 0 2 2 2 2 2 0 0 0 0 1 0 0 2 1\n",
      " 0 0 0 2 1 1 0 0]\n"
     ]
    }
   ],
   "source": [
    "#Dữ liệu trong tập y_test:\n",
    "print(y_test)"
   ]
  },
  {
   "cell_type": "code",
   "execution_count": 18,
   "metadata": {},
   "outputs": [
    {
     "data": {
      "text/plain": [
       "105.0"
      ]
     },
     "execution_count": 18,
     "metadata": {},
     "output_type": "execute_result"
    }
   ],
   "source": [
    "0.7*150"
   ]
  },
  {
   "cell_type": "markdown",
   "metadata": {},
   "source": [
    "## 3. Sử dụng mô hình KNN cho bài toán phân lớp\n",
    "---"
   ]
  },
  {
   "cell_type": "code",
   "execution_count": 19,
   "metadata": {},
   "outputs": [
    {
     "data": {
      "text/plain": [
       "{'algorithm': 'auto',\n",
       " 'leaf_size': 30,\n",
       " 'metric': 'minkowski',\n",
       " 'metric_params': None,\n",
       " 'n_jobs': None,\n",
       " 'n_neighbors': 5,\n",
       " 'p': 2,\n",
       " 'weights': 'uniform'}"
      ]
     },
     "execution_count": 19,
     "metadata": {},
     "output_type": "execute_result"
    }
   ],
   "source": [
    "#Khai báo sử dụng thuật toán KNN cho bài toán phân lớp:\n",
    "from sklearn.neighbors import KNeighborsClassifier\n",
    "from sklearn.metrics import accuracy_score\n",
    "\n",
    "#Khai báo model KNN sử dụng các tham số mặc định\n",
    "KNN_iris = KNeighborsClassifier()\n",
    "\n",
    "#Hiển thị danh sách các tham số của thuật toán:\n",
    "KNN_iris.get_params()"
   ]
  },
  {
   "cell_type": "code",
   "execution_count": 19,
   "metadata": {},
   "outputs": [],
   "source": [
    "# p: thiết lập cách tính khoảng cách p = 2 là ec p=1 là mada\n",
    "# weights: trong số"
   ]
  },
  {
   "cell_type": "markdown",
   "metadata": {},
   "source": [
    "### Một số tham số quan trọng của thuật toán KNN trong thư viện sklearn:\n",
    "Tham khảo KNN của thư viện sklearn:\n",
    "https://scikit-learn.org/stable/modules/generated/sklearn.neighbors.KNeighborsClassifier.html\n",
    "\n",
    "\n",
    "1. n_neighbors: số điểm lân cận sử dụng (default = 5)\n",
    "2. weights: có tính trọng số của các điểm lân cận hay không?\n",
    "    * uniform: Tất cả các điểm lân cận đều có trọng số như nhau (default)\n",
    "    * distance: Các điểm lân cận gần hơn sẽ được đánh trọng số cao hơn\n",
    "3. algorithm: Thuật toán sử dụng để tính các điểm lân cận: ball_tree, kd_tree, brute, auto (default)\n",
    "4. p: xác định khoảng cách tính theo manhattan (p=1) hay tính theo euclidean (p=2 default)\n"
   ]
  },
  {
   "cell_type": "code",
   "execution_count": 20,
   "metadata": {},
   "outputs": [
    {
     "data": {
      "text/plain": [
       "KNeighborsClassifier()"
      ]
     },
     "execution_count": 20,
     "metadata": {},
     "output_type": "execute_result"
    }
   ],
   "source": [
    "#Thực hiện huấn luyện với dữ liệu tập train\n",
    "KNN_iris.fit(X_train,y_train)"
   ]
  },
  {
   "cell_type": "code",
   "execution_count": 22,
   "metadata": {},
   "outputs": [
    {
     "name": "stdout",
     "output_type": "stream",
     "text": [
      "Độ chính xác trên tập huấn luyện: 95.24\n"
     ]
    }
   ],
   "source": [
    "#Đánh giá độ chính xác trên tập huấn luyên:\n",
    "acc_train = KNN_iris.score(X_train,y_train)\n",
    "print('Độ chính xác trên tập huấn luyện:', round(acc_train*100,2))"
   ]
  },
  {
   "cell_type": "markdown",
   "metadata": {},
   "source": [
    "## 4. Đánh giá độ chính xác của mô hình phân loại:\n",
    "---\n",
    "\n",
    "Cách đơn giản và hay được sử dụng nhất là Accauracy: Tính tỷ lệ giữa số điểm được dự đoán đúng và tổng số điểm trong tập dữ liệu kiểm thử."
   ]
  },
  {
   "cell_type": "code",
   "execution_count": 23,
   "metadata": {},
   "outputs": [
    {
     "name": "stdout",
     "output_type": "stream",
     "text": [
      "Kết quả phân loại hoa lan trên tập dữ liệu TEST:\n",
      "Predicted labels:  [1 0 2 1 1 0 1 2 1 1 2 0 0 0 0 1 2 1 1 2 0 2 0 2 2 2 2 2 0 0 0 0 1 0 0 2 1\n",
      " 0 0 0 2 1 1 0 0]\n",
      "Ground truth    :  [1 0 2 1 1 0 1 2 1 1 2 0 0 0 0 1 2 1 1 2 0 2 0 2 2 2 2 2 0 0 0 0 1 0 0 2 1\n",
      " 0 0 0 2 1 1 0 0]\n"
     ]
    }
   ],
   "source": [
    "#Sử dụng mô hình huấn luyện dự đoán trên tập dữ liệu Test\n",
    "y_pred = KNN_iris.predict(X_test)\n",
    "\n",
    "print(\"Kết quả phân loại hoa lan trên tập dữ liệu TEST:\")\n",
    "print(\"Predicted labels: \", y_pred)\n",
    "print(\"Ground truth    : \", y_test)"
   ]
  },
  {
   "cell_type": "code",
   "execution_count": 24,
   "metadata": {},
   "outputs": [
    {
     "name": "stdout",
     "output_type": "stream",
     "text": [
      "Độ chính xác của mô hình phân lớp hoa lan (k=5 default): 1.0\n",
      "Độ chính xác theo %: 100.0\n"
     ]
    }
   ],
   "source": [
    "#Sử dụng module accuracy_score trong thư viện sklearn để đánh giá độ chính xác:\n",
    "#Độ chính xác theo tỷ lệ số mẫu dự đoán đúng / tổng số mẫu của tập test\n",
    "from sklearn.metrics import accuracy_score\n",
    "acc1 = accuracy_score(y_test, y_pred)\n",
    "print('Độ chính xác của mô hình phân lớp hoa lan (k=5 default):', acc1)\n",
    "print('Độ chính xác theo %:', round(acc1*100,2))"
   ]
  },
  {
   "cell_type": "markdown",
   "metadata": {},
   "source": [
    "# dữ liệu mẫu sạch\n",
    "# dữ liệu quá ít"
   ]
  },
  {
   "cell_type": "code",
   "execution_count": 25,
   "metadata": {},
   "outputs": [
    {
     "name": "stdout",
     "output_type": "stream",
     "text": [
      "Tổng số mẫu dự đoán đúng: 45  / 45\n"
     ]
    }
   ],
   "source": [
    "# Số liệu cho biết tổng số mẫu dự đoán đúng trên tập Test\n",
    "acc2 = accuracy_score(y_test, y_pred,normalize=False)\n",
    "print('Tổng số mẫu dự đoán đúng:', acc2, ' /', len(y_test))"
   ]
  },
  {
   "cell_type": "code",
   "execution_count": null,
   "metadata": {},
   "outputs": [],
   "source": []
  },
  {
   "cell_type": "markdown",
   "metadata": {},
   "source": [
    "# 5. Sử dụng mô hình dự đoán cho mẫu mới:\n",
    "---\n",
    "Giả sử có một mẫu hoa mới có các thông số sau:\n",
    "<img src='Pic/Iris.jpg' width='300px'>\n",
    "* sepal length (cm): 1.8\n",
    "* sepal width (cm):  2.0\n",
    "* petal length (cm): 1.2\n",
    "* petal width (cm): 2.1\n"
   ]
  },
  {
   "cell_type": "code",
   "execution_count": 26,
   "metadata": {},
   "outputs": [
    {
     "name": "stdout",
     "output_type": "stream",
     "text": [
      "(1, 4)\n",
      "[[1.8 2.  3.2 2.1]]\n"
     ]
    }
   ],
   "source": [
    "import numpy as np\n",
    "\n",
    "#Khai báo thông số của Mẫu hoa lan mới\n",
    "a_array = np.array([(1.8, 2.0, 3.2, 2.1)])\n",
    "print(a_array.shape)\n",
    "print(a_array)"
   ]
  },
  {
   "cell_type": "code",
   "execution_count": 27,
   "metadata": {},
   "outputs": [
    {
     "name": "stdout",
     "output_type": "stream",
     "text": [
      "[1]\n",
      "ML said: New Sample is 1-Versicolor\n"
     ]
    }
   ],
   "source": [
    "#Sử dụng mô hình huấn luyện được để dự báo cho mẫu mới:\n",
    "label = KNN_iris.predict(a_array)\n",
    "\n",
    "#Hiển thị kết quả:\n",
    "print(label)\n",
    "if label==0:\n",
    "    print('ML said: New Sample is 0-Setosa')\n",
    "elif (label==1):\n",
    "    print('ML said: New Sample is 1-Versicolor')\n",
    "elif (label==2):\n",
    "    print('ML said: New Sample is 2-Virginica')"
   ]
  },
  {
   "cell_type": "code",
   "execution_count": null,
   "metadata": {},
   "outputs": [],
   "source": []
  },
  {
   "cell_type": "markdown",
   "metadata": {},
   "source": [
    "## B| THỰC HÀNH TRÊN LỚP:\n",
    "---\n",
    "Sử dụng dữ liệu đã được tiền xử lý trong tập Data_titanic_ok.csv của chương 2. \n",
    "* Xây dựng model học máy dự đoán khả năng không được cứu (0) - được cứu (1) của hành khách với thuật toán KNN.\n",
    "* Tùy chỉnh tham số của mô hình để độ chính xác trên cả tập Train và Test cao nhất có thể (Best Fit)\n",
    "<img src='Pic/titanic.jpg'>\n",
    "\n"
   ]
  },
  {
   "cell_type": "markdown",
   "metadata": {},
   "source": [
    "## B.1 Đọc và quan sát tập dữ liệu:\n",
    "---"
   ]
  },
  {
   "cell_type": "code",
   "execution_count": 2,
   "metadata": {},
   "outputs": [
    {
     "name": "stdout",
     "output_type": "stream",
     "text": [
      "<class 'pandas.core.frame.DataFrame'>\n",
      "RangeIndex: 1309 entries, 0 to 1308\n",
      "Data columns (total 7 columns):\n",
      " #   Column    Non-Null Count  Dtype\n",
      "---  ------    --------------  -----\n",
      " 0   Survived  1309 non-null   int64\n",
      " 1   Pclass    1309 non-null   int64\n",
      " 2   Sex       1309 non-null   int64\n",
      " 3   Age       1309 non-null   int64\n",
      " 4   SibSp     1309 non-null   int64\n",
      " 5   Parch     1309 non-null   int64\n",
      " 6   Embarked  1309 non-null   int64\n",
      "dtypes: int64(7)\n",
      "memory usage: 71.7 KB\n"
     ]
    }
   ],
   "source": [
    "#Đọc tập dữ liệu đã xử lý trong chương 2\n",
    "path_titanic =\"Data/Data_Titanic_ok.csv\"\n",
    "df_titanic = pd.read_csv(path_titanic)\n",
    "df_titanic.info()"
   ]
  },
  {
   "cell_type": "code",
   "execution_count": 3,
   "metadata": {},
   "outputs": [
    {
     "data": {
      "text/html": [
       "<div>\n",
       "<style scoped>\n",
       "    .dataframe tbody tr th:only-of-type {\n",
       "        vertical-align: middle;\n",
       "    }\n",
       "\n",
       "    .dataframe tbody tr th {\n",
       "        vertical-align: top;\n",
       "    }\n",
       "\n",
       "    .dataframe thead th {\n",
       "        text-align: right;\n",
       "    }\n",
       "</style>\n",
       "<table border=\"1\" class=\"dataframe\">\n",
       "  <thead>\n",
       "    <tr style=\"text-align: right;\">\n",
       "      <th></th>\n",
       "      <th>Survived</th>\n",
       "      <th>Pclass</th>\n",
       "      <th>Sex</th>\n",
       "      <th>Age</th>\n",
       "      <th>SibSp</th>\n",
       "      <th>Parch</th>\n",
       "      <th>Embarked</th>\n",
       "    </tr>\n",
       "  </thead>\n",
       "  <tbody>\n",
       "    <tr>\n",
       "      <th>0</th>\n",
       "      <td>0</td>\n",
       "      <td>3</td>\n",
       "      <td>0</td>\n",
       "      <td>1</td>\n",
       "      <td>1</td>\n",
       "      <td>0</td>\n",
       "      <td>0</td>\n",
       "    </tr>\n",
       "    <tr>\n",
       "      <th>1</th>\n",
       "      <td>1</td>\n",
       "      <td>1</td>\n",
       "      <td>1</td>\n",
       "      <td>2</td>\n",
       "      <td>1</td>\n",
       "      <td>0</td>\n",
       "      <td>1</td>\n",
       "    </tr>\n",
       "    <tr>\n",
       "      <th>2</th>\n",
       "      <td>1</td>\n",
       "      <td>3</td>\n",
       "      <td>1</td>\n",
       "      <td>1</td>\n",
       "      <td>0</td>\n",
       "      <td>0</td>\n",
       "      <td>0</td>\n",
       "    </tr>\n",
       "    <tr>\n",
       "      <th>3</th>\n",
       "      <td>1</td>\n",
       "      <td>1</td>\n",
       "      <td>1</td>\n",
       "      <td>2</td>\n",
       "      <td>1</td>\n",
       "      <td>0</td>\n",
       "      <td>0</td>\n",
       "    </tr>\n",
       "    <tr>\n",
       "      <th>4</th>\n",
       "      <td>0</td>\n",
       "      <td>3</td>\n",
       "      <td>0</td>\n",
       "      <td>2</td>\n",
       "      <td>0</td>\n",
       "      <td>0</td>\n",
       "      <td>0</td>\n",
       "    </tr>\n",
       "  </tbody>\n",
       "</table>\n",
       "</div>"
      ],
      "text/plain": [
       "   Survived  Pclass  Sex  Age  SibSp  Parch  Embarked\n",
       "0         0       3    0    1      1      0         0\n",
       "1         1       1    1    2      1      0         1\n",
       "2         1       3    1    1      0      0         0\n",
       "3         1       1    1    2      1      0         0\n",
       "4         0       3    0    2      0      0         0"
      ]
     },
     "execution_count": 3,
     "metadata": {},
     "output_type": "execute_result"
    }
   ],
   "source": [
    "df_titanic.head()"
   ]
  },
  {
   "cell_type": "code",
   "execution_count": 4,
   "metadata": {},
   "outputs": [
    {
     "data": {
      "text/html": [
       "<div>\n",
       "<style scoped>\n",
       "    .dataframe tbody tr th:only-of-type {\n",
       "        vertical-align: middle;\n",
       "    }\n",
       "\n",
       "    .dataframe tbody tr th {\n",
       "        vertical-align: top;\n",
       "    }\n",
       "\n",
       "    .dataframe thead th {\n",
       "        text-align: right;\n",
       "    }\n",
       "</style>\n",
       "<table border=\"1\" class=\"dataframe\">\n",
       "  <thead>\n",
       "    <tr style=\"text-align: right;\">\n",
       "      <th></th>\n",
       "      <th>Survived</th>\n",
       "      <th>Pclass</th>\n",
       "      <th>Sex</th>\n",
       "      <th>Age</th>\n",
       "      <th>SibSp</th>\n",
       "      <th>Parch</th>\n",
       "      <th>Embarked</th>\n",
       "    </tr>\n",
       "  </thead>\n",
       "  <tbody>\n",
       "    <tr>\n",
       "      <th>1304</th>\n",
       "      <td>0</td>\n",
       "      <td>3</td>\n",
       "      <td>0</td>\n",
       "      <td>1</td>\n",
       "      <td>0</td>\n",
       "      <td>0</td>\n",
       "      <td>0</td>\n",
       "    </tr>\n",
       "    <tr>\n",
       "      <th>1305</th>\n",
       "      <td>1</td>\n",
       "      <td>1</td>\n",
       "      <td>1</td>\n",
       "      <td>2</td>\n",
       "      <td>0</td>\n",
       "      <td>0</td>\n",
       "      <td>1</td>\n",
       "    </tr>\n",
       "    <tr>\n",
       "      <th>1306</th>\n",
       "      <td>0</td>\n",
       "      <td>3</td>\n",
       "      <td>0</td>\n",
       "      <td>2</td>\n",
       "      <td>0</td>\n",
       "      <td>0</td>\n",
       "      <td>0</td>\n",
       "    </tr>\n",
       "    <tr>\n",
       "      <th>1307</th>\n",
       "      <td>0</td>\n",
       "      <td>3</td>\n",
       "      <td>0</td>\n",
       "      <td>1</td>\n",
       "      <td>0</td>\n",
       "      <td>0</td>\n",
       "      <td>0</td>\n",
       "    </tr>\n",
       "    <tr>\n",
       "      <th>1308</th>\n",
       "      <td>0</td>\n",
       "      <td>3</td>\n",
       "      <td>0</td>\n",
       "      <td>1</td>\n",
       "      <td>1</td>\n",
       "      <td>1</td>\n",
       "      <td>1</td>\n",
       "    </tr>\n",
       "  </tbody>\n",
       "</table>\n",
       "</div>"
      ],
      "text/plain": [
       "      Survived  Pclass  Sex  Age  SibSp  Parch  Embarked\n",
       "1304         0       3    0    1      0      0         0\n",
       "1305         1       1    1    2      0      0         1\n",
       "1306         0       3    0    2      0      0         0\n",
       "1307         0       3    0    1      0      0         0\n",
       "1308         0       3    0    1      1      1         1"
      ]
     },
     "execution_count": 4,
     "metadata": {},
     "output_type": "execute_result"
    }
   ],
   "source": [
    "df_titanic.tail()"
   ]
  },
  {
   "cell_type": "code",
   "execution_count": 5,
   "metadata": {},
   "outputs": [
    {
     "data": {
      "text/html": [
       "<div>\n",
       "<style scoped>\n",
       "    .dataframe tbody tr th:only-of-type {\n",
       "        vertical-align: middle;\n",
       "    }\n",
       "\n",
       "    .dataframe tbody tr th {\n",
       "        vertical-align: top;\n",
       "    }\n",
       "\n",
       "    .dataframe thead th {\n",
       "        text-align: right;\n",
       "    }\n",
       "</style>\n",
       "<table border=\"1\" class=\"dataframe\">\n",
       "  <thead>\n",
       "    <tr style=\"text-align: right;\">\n",
       "      <th></th>\n",
       "      <th>Survived</th>\n",
       "      <th>Pclass</th>\n",
       "      <th>Sex</th>\n",
       "      <th>Age</th>\n",
       "      <th>SibSp</th>\n",
       "      <th>Parch</th>\n",
       "      <th>Embarked</th>\n",
       "    </tr>\n",
       "  </thead>\n",
       "  <tbody>\n",
       "    <tr>\n",
       "      <th>count</th>\n",
       "      <td>1309.000000</td>\n",
       "      <td>1309.000000</td>\n",
       "      <td>1309.000000</td>\n",
       "      <td>1309.000000</td>\n",
       "      <td>1309.000000</td>\n",
       "      <td>1309.000000</td>\n",
       "      <td>1309.000000</td>\n",
       "    </tr>\n",
       "    <tr>\n",
       "      <th>mean</th>\n",
       "      <td>0.377387</td>\n",
       "      <td>2.294882</td>\n",
       "      <td>0.355997</td>\n",
       "      <td>1.324675</td>\n",
       "      <td>0.498854</td>\n",
       "      <td>0.385027</td>\n",
       "      <td>0.394194</td>\n",
       "    </tr>\n",
       "    <tr>\n",
       "      <th>std</th>\n",
       "      <td>0.484918</td>\n",
       "      <td>0.837836</td>\n",
       "      <td>0.478997</td>\n",
       "      <td>0.803763</td>\n",
       "      <td>1.041658</td>\n",
       "      <td>0.865560</td>\n",
       "      <td>0.653499</td>\n",
       "    </tr>\n",
       "    <tr>\n",
       "      <th>min</th>\n",
       "      <td>0.000000</td>\n",
       "      <td>1.000000</td>\n",
       "      <td>0.000000</td>\n",
       "      <td>0.000000</td>\n",
       "      <td>0.000000</td>\n",
       "      <td>0.000000</td>\n",
       "      <td>0.000000</td>\n",
       "    </tr>\n",
       "    <tr>\n",
       "      <th>25%</th>\n",
       "      <td>0.000000</td>\n",
       "      <td>2.000000</td>\n",
       "      <td>0.000000</td>\n",
       "      <td>1.000000</td>\n",
       "      <td>0.000000</td>\n",
       "      <td>0.000000</td>\n",
       "      <td>0.000000</td>\n",
       "    </tr>\n",
       "    <tr>\n",
       "      <th>50%</th>\n",
       "      <td>0.000000</td>\n",
       "      <td>3.000000</td>\n",
       "      <td>0.000000</td>\n",
       "      <td>1.000000</td>\n",
       "      <td>0.000000</td>\n",
       "      <td>0.000000</td>\n",
       "      <td>0.000000</td>\n",
       "    </tr>\n",
       "    <tr>\n",
       "      <th>75%</th>\n",
       "      <td>1.000000</td>\n",
       "      <td>3.000000</td>\n",
       "      <td>1.000000</td>\n",
       "      <td>2.000000</td>\n",
       "      <td>1.000000</td>\n",
       "      <td>0.000000</td>\n",
       "      <td>1.000000</td>\n",
       "    </tr>\n",
       "    <tr>\n",
       "      <th>max</th>\n",
       "      <td>1.000000</td>\n",
       "      <td>3.000000</td>\n",
       "      <td>1.000000</td>\n",
       "      <td>4.000000</td>\n",
       "      <td>8.000000</td>\n",
       "      <td>9.000000</td>\n",
       "      <td>2.000000</td>\n",
       "    </tr>\n",
       "  </tbody>\n",
       "</table>\n",
       "</div>"
      ],
      "text/plain": [
       "          Survived       Pclass          Sex          Age        SibSp  \\\n",
       "count  1309.000000  1309.000000  1309.000000  1309.000000  1309.000000   \n",
       "mean      0.377387     2.294882     0.355997     1.324675     0.498854   \n",
       "std       0.484918     0.837836     0.478997     0.803763     1.041658   \n",
       "min       0.000000     1.000000     0.000000     0.000000     0.000000   \n",
       "25%       0.000000     2.000000     0.000000     1.000000     0.000000   \n",
       "50%       0.000000     3.000000     0.000000     1.000000     0.000000   \n",
       "75%       1.000000     3.000000     1.000000     2.000000     1.000000   \n",
       "max       1.000000     3.000000     1.000000     4.000000     8.000000   \n",
       "\n",
       "             Parch     Embarked  \n",
       "count  1309.000000  1309.000000  \n",
       "mean      0.385027     0.394194  \n",
       "std       0.865560     0.653499  \n",
       "min       0.000000     0.000000  \n",
       "25%       0.000000     0.000000  \n",
       "50%       0.000000     0.000000  \n",
       "75%       0.000000     1.000000  \n",
       "max       9.000000     2.000000  "
      ]
     },
     "execution_count": 5,
     "metadata": {},
     "output_type": "execute_result"
    }
   ],
   "source": [
    "df_titanic.describe()"
   ]
  },
  {
   "cell_type": "code",
   "execution_count": null,
   "metadata": {},
   "outputs": [],
   "source": []
  },
  {
   "cell_type": "markdown",
   "metadata": {},
   "source": [
    "## B.2 Kiểm tra cân bằng của tập dữ liệu:\n",
    "---"
   ]
  },
  {
   "cell_type": "code",
   "execution_count": 7,
   "metadata": {},
   "outputs": [
    {
     "data": {
      "text/plain": [
       "Index(['Survived', 'Pclass', 'Sex', 'Age', 'SibSp', 'Parch', 'Embarked'], dtype='object')"
      ]
     },
     "execution_count": 7,
     "metadata": {},
     "output_type": "execute_result"
    }
   ],
   "source": [
    "df_titanic.columns"
   ]
  },
  {
   "cell_type": "code",
   "execution_count": 9,
   "metadata": {},
   "outputs": [
    {
     "name": "stdout",
     "output_type": "stream",
     "text": [
      "0    815\n",
      "1    494\n",
      "Name: Survived, dtype: int64\n"
     ]
    }
   ],
   "source": [
    "# thuc hien dem\n",
    "c_titanic = df_titanic['Survived'].value_counts()\n",
    "print(c_titanic)"
   ]
  },
  {
   "cell_type": "code",
   "execution_count": 10,
   "metadata": {},
   "outputs": [
    {
     "name": "stdout",
     "output_type": "stream",
     "text": [
      "0    815\n",
      "1    494\n",
      "Name: Survived, dtype: int64\n"
     ]
    },
    {
     "data": {
      "image/png": "[encoded data removed]",
      "text/plain": [
       "<Figure size 864x288 with 2 Axes>"
      ]
     },
     "metadata": {
      "needs_background": "light"
     },
     "output_type": "display_data"
    }
   ],
   "source": [
    "#Kiểm tra cân bằng dữ liệu\n",
    "x = df_titanic['Survived'].value_counts()\n",
    "print(x)\n",
    "#Trực quan hóa số liệu\n",
    "label=['0: Khong cuu duoc', '1: Cuu duoc']\n",
    "fig = plt.figure(figsize=(12,4))\n",
    "plt.suptitle('So nan nhan duoc cuu va khong duoc cuu')\n",
    "plt.subplot(1,2,1)\n",
    "plt.pie(x, labels=label,\n",
    "        autopct='%.1f',\n",
    "        colors = color1,\n",
    "        wedgeprops=dict(width=0.7,edgecolor='w'))\n",
    "\n",
    "plt.subplot(1,2,2)\n",
    "plt.bar(label,x,\n",
    "        color=color1)\n",
    "plt.grid(True)\n",
    "plt.show()\n",
    "\n",
    "#--->Tập dữ liệu cân bằng, mỗi lớp chiếm 33.3%\n",
    "# 150 mẫu chia đều cho 3 mẫu"
   ]
  },
  {
   "cell_type": "code",
   "execution_count": 42,
   "metadata": {},
   "outputs": [
    {
     "data": {
      "image/png": "[encoded data removed]",
      "text/plain": [
       "<Figure size 432x288 with 1 Axes>"
      ]
     },
     "metadata": {},
     "output_type": "display_data"
    }
   ],
   "source": [
    "# truc quan hoa du lieu\n",
    "plt.pie(c_titanic.values,labels= c_titanic.index)\n",
    "plt.show()"
   ]
  },
  {
   "cell_type": "code",
   "execution_count": 11,
   "metadata": {},
   "outputs": [
    {
     "data": {
      "image/png": "[encoded data removed]",
      "text/plain": [
       "<Figure size 1080x360 with 2 Axes>"
      ]
     },
     "metadata": {
      "needs_background": "light"
     },
     "output_type": "display_data"
    }
   ],
   "source": [
    "\n",
    "#Trực quan hóa số liệu\n",
    "label=['0: ko dc cuu', '1: dc cuu']\n",
    "fig = plt.figure(figsize=(15,5))\n",
    "# plt.suptitle('SỐ LƯỢNG MẪU CHO MỖI LỚP HOA LAN')\n",
    "plt.subplot(1,2,1)\n",
    "plt.pie(c_titanic, labels=label,\n",
    "        autopct='%.2f',\n",
    "        colors = color1,\n",
    "        wedgeprops=dict(width=0.7,edgecolor='w'))\n",
    "\n",
    "plt.subplot(1,2,2)\n",
    "plt.bar(label,c_titanic.values,\n",
    "        color=color1)\n",
    "plt.grid(ls='--')\n",
    "plt.show()"
   ]
  },
  {
   "cell_type": "code",
   "execution_count": null,
   "metadata": {},
   "outputs": [],
   "source": [
    "# nhan xet: tap du lieu titanic mat can bang trung binh lop 0 co ti le gap 2 lan lop 1"
   ]
  },
  {
   "cell_type": "markdown",
   "metadata": {},
   "source": [
    "## B.3 Phân tách biến độc lập và biến phụ thuộc:\n",
    "---"
   ]
  },
  {
   "cell_type": "code",
   "execution_count": 12,
   "metadata": {},
   "outputs": [
    {
     "data": {
      "text/plain": [
       "Index(['Survived', 'Pclass', 'Sex', 'Age', 'SibSp', 'Parch', 'Embarked'], dtype='object')"
      ]
     },
     "execution_count": 12,
     "metadata": {},
     "output_type": "execute_result"
    }
   ],
   "source": [
    "df_titanic.columns\n",
    "\n"
   ]
  },
  {
   "cell_type": "code",
   "execution_count": 13,
   "metadata": {},
   "outputs": [
    {
     "name": "stdout",
     "output_type": "stream",
     "text": [
      "[[3 0 1 1 0 0]\n",
      " [1 1 2 1 0 1]\n",
      " [3 1 1 0 0 0]\n",
      " ...\n",
      " [3 0 2 0 0 0]\n",
      " [3 0 1 0 0 0]\n",
      " [3 0 1 1 1 1]]\n"
     ]
    }
   ],
   "source": [
    "# tach bien doc lap\n",
    "X_titanic = df_titanic.loc[:,['Pclass', 'Sex', 'Age', 'SibSp', 'Parch', 'Embarked']].values\n",
    "\n",
    "print(X_titanic)"
   ]
  },
  {
   "cell_type": "code",
   "execution_count": 14,
   "metadata": {},
   "outputs": [
    {
     "name": "stdout",
     "output_type": "stream",
     "text": [
      "[0 1 1 ... 0 0 0]\n"
     ]
    }
   ],
   "source": [
    "#Phân tách biến phụ thuộc:\n",
    "y_titanic = df_titanic.loc[:,['Survived']].values.ravel()\n",
    "print(y_titanic)"
   ]
  },
  {
   "cell_type": "code",
   "execution_count": null,
   "metadata": {},
   "outputs": [],
   "source": []
  },
  {
   "cell_type": "markdown",
   "metadata": {},
   "source": [
    "## B.4 Tách tập dữ liệu Train - Test:\n",
    "---"
   ]
  },
  {
   "cell_type": "code",
   "execution_count": 30,
   "metadata": {},
   "outputs": [
    {
     "name": "stdout",
     "output_type": "stream",
     "text": [
      "1. Kích thước tập Training:  981\n",
      "2. Kích thước tập Test    :  328\n"
     ]
    }
   ],
   "source": [
    "from sklearn.model_selection import train_test_split\n",
    "X_titanic_train, X_titanic_test, y_titanic_train, y_titanic_test = train_test_split(X_titanic, \n",
    "                                                    y_titanic,\n",
    "                                                    test_size=0.25,\n",
    "                                                    random_state=42)\n",
    "\n",
    "print(\"1. Kích thước tập Training: \", len(y_titanic_train))\n",
    "print(\"2. Kích thước tập Test    : \",len(y_titanic_test))\n",
    "# random_state mục đích: lấy ngẫu nhiên 105 mẫu trong 150 mẫu (40 -> 60)"
   ]
  },
  {
   "cell_type": "markdown",
   "metadata": {},
   "source": [
    "# B.5 khai bao mo hinh knn"
   ]
  },
  {
   "cell_type": "code",
   "execution_count": 17,
   "metadata": {},
   "outputs": [
    {
     "data": {
      "text/plain": [
       "{'algorithm': 'auto',\n",
       " 'leaf_size': 30,\n",
       " 'metric': 'minkowski',\n",
       " 'metric_params': None,\n",
       " 'n_jobs': None,\n",
       " 'n_neighbors': 7,\n",
       " 'p': 2,\n",
       " 'weights': 'uniform'}"
      ]
     },
     "execution_count": 17,
     "metadata": {},
     "output_type": "execute_result"
    }
   ],
   "source": [
    "#Khai báo sử dụng thuật toán KNN cho bài toán phân lớp:\n",
    "from sklearn.neighbors import KNeighborsClassifier\n",
    "from sklearn.metrics import accuracy_score\n",
    "\n",
    "#Khai báo model KNN sử dụng các tham số mặc định\n",
    "KNN_titanic = KNeighborsClassifier(n_neighbors= 7)\n",
    "\n",
    "\n",
    "#Hiển thị danh sách các tham số của thuật toán:\n",
    "KNN_titanic.get_params()\n"
   ]
  },
  {
   "cell_type": "code",
   "execution_count": 18,
   "metadata": {},
   "outputs": [
    {
     "data": {
      "text/plain": [
       "{'algorithm': 'auto',\n",
       " 'leaf_size': 30,\n",
       " 'metric': 'minkowski',\n",
       " 'metric_params': None,\n",
       " 'n_jobs': None,\n",
       " 'n_neighbors': 5,\n",
       " 'p': 2,\n",
       " 'weights': 'uniform'}"
      ]
     },
     "execution_count": 18,
     "metadata": {},
     "output_type": "execute_result"
    }
   ],
   "source": [
    "KNN_titanic_test = KNeighborsClassifier()\n",
    "KNN_titanic_test.get_params()"
   ]
  },
  {
   "cell_type": "markdown",
   "metadata": {},
   "source": [
    "# B.6: Huan luyen mo hinh"
   ]
  },
  {
   "cell_type": "code",
   "execution_count": 19,
   "metadata": {},
   "outputs": [
    {
     "data": {
      "text/plain": [
       "KNeighborsClassifier(n_neighbors=7)"
      ]
     },
     "execution_count": 19,
     "metadata": {},
     "output_type": "execute_result"
    }
   ],
   "source": [
    "#Thực hiện huấn luyện với dữ liệu tập train\n",
    "KNN_titanic.fit(X_titanic_train,y_titanic_train)"
   ]
  },
  {
   "cell_type": "code",
   "execution_count": 20,
   "metadata": {},
   "outputs": [
    {
     "name": "stdout",
     "output_type": "stream",
     "text": [
      "Độ chính xác trên tập huấn luyện: 86.44\n"
     ]
    }
   ],
   "source": [
    "#Đánh giá độ chính xác trên tập huấn luyên:\n",
    "acc_train = KNN_titanic.score(X_titanic_train,y_titanic_train)\n",
    "print('Độ chính xác trên tập huấn luyện:', round(acc_train*100,2))"
   ]
  },
  {
   "cell_type": "markdown",
   "metadata": {},
   "source": [
    "# B.7: DAnh gia do chinh xac cua mo hinh\n"
   ]
  },
  {
   "cell_type": "code",
   "execution_count": 21,
   "metadata": {},
   "outputs": [
    {
     "name": "stdout",
     "output_type": "stream",
     "text": [
      "Kết quả phân loại hanh khach trên tập dữ liệu TEST:\n",
      "Mo hinh du doan:  [0 0 0 0 1 0 1 1 1 0]\n",
      "Gia tri that   :  [0 0 0 0 1 0 1 1 1 1]\n"
     ]
    }
   ],
   "source": [
    "#Sử dụng mô hình huấn luyện dự đoán trên tập dữ liệu Test\n",
    "y_titanic_pred = KNN_titanic.predict(X_titanic_test)\n",
    "\n",
    "print(\"Kết quả phân loại hanh khach trên tập dữ liệu TEST:\")\n",
    "print(\"Mo hinh du doan: \", y_titanic_pred[:10])\n",
    "print(\"Gia tri that   : \", y_titanic_test[:10])"
   ]
  },
  {
   "cell_type": "code",
   "execution_count": 23,
   "metadata": {},
   "outputs": [
    {
     "name": "stdout",
     "output_type": "stream",
     "text": [
      "Do chinh xac tren tap test:  85.67\n"
     ]
    }
   ],
   "source": [
    "# tinh do chinh xac cua toan bo tap test\n",
    "# from sklearn.metrics import accuracy_score\n",
    "from sklearn.metrics import accuracy_score\n",
    "# ac_test = accuracy_score(y_titanic_test, y_titanic_pred)\n",
    "# y_pred = [0, 2, 1, 3]\n",
    "# y_true = [0, 1, 2, 3]\n",
    "# print(len(y_titanic_test))\n",
    "# print(len(y_titanic_pred))\n",
    "# y_titanic_pred\n",
    "ac_test = accuracy_score(y_titanic_test, y_titanic_pred)\n",
    "print('Do chinh xac tren tap test: ', round(ac_test*100,2))"
   ]
  },
  {
   "cell_type": "code",
   "execution_count": 73,
   "metadata": {},
   "outputs": [
    {
     "data": {
      "text/plain": [
       "{'algorithm': 'auto',\n",
       " 'leaf_size': 30,\n",
       " 'metric': 'minkowski',\n",
       " 'metric_params': None,\n",
       " 'n_jobs': None,\n",
       " 'n_neighbors': 7,\n",
       " 'p': 2,\n",
       " 'weights': 'uniform'}"
      ]
     },
     "execution_count": 73,
     "metadata": {},
     "output_type": "execute_result"
    }
   ],
   "source": [
    "# khai bao mo hinh KNN moi, thay doi tham so\n",
    "# n_neighbors: 7, 9, 11, 15\n",
    "# p: 1 , 2\n",
    "# weights: 'uniform, distance'\n",
    "KNN_titanic.get_params()"
   ]
  },
  {
   "cell_type": "markdown",
   "metadata": {},
   "source": [
    "<h1><center>Thay doi tham so</center></h1>"
   ]
  },
  {
   "cell_type": "markdown",
   "metadata": {},
   "source": [
    "# Bo du lieu 1 (n_neighbors = 7, p = 1, weights: uniform)"
   ]
  },
  {
   "cell_type": "code",
   "execution_count": 24,
   "metadata": {},
   "outputs": [
    {
     "data": {
      "text/plain": [
       "{'algorithm': 'auto',\n",
       " 'leaf_size': 30,\n",
       " 'metric': 'minkowski',\n",
       " 'metric_params': None,\n",
       " 'n_jobs': None,\n",
       " 'n_neighbors': 7,\n",
       " 'p': 1,\n",
       " 'weights': 'uniform'}"
      ]
     },
     "execution_count": 24,
     "metadata": {},
     "output_type": "execute_result"
    }
   ],
   "source": [
    "#Khai báo model KNN sử dụng các tham số n_neighbors = 7, p = 1, weights: uniform\n",
    "\n",
    "KNN_titanic_test_one = KNeighborsClassifier(n_neighbors= 7, p = 1, weights='uniform')\n",
    "#Hiển thị danh sách các tham số của thuật toán:\n",
    "KNN_titanic_test_one.get_params()\n"
   ]
  },
  {
   "cell_type": "code",
   "execution_count": 25,
   "metadata": {},
   "outputs": [
    {
     "data": {
      "text/plain": [
       "KNeighborsClassifier(n_neighbors=7, p=1)"
      ]
     },
     "execution_count": 25,
     "metadata": {},
     "output_type": "execute_result"
    }
   ],
   "source": [
    "#Thực hiện huấn luyện với dữ liệu tập train\n",
    "KNN_titanic_test_one.fit(X_titanic_train,y_titanic_train)"
   ]
  },
  {
   "cell_type": "code",
   "execution_count": 26,
   "metadata": {},
   "outputs": [
    {
     "name": "stdout",
     "output_type": "stream",
     "text": [
      "Độ chính xác trên tập huấn luyện: 86.44\n"
     ]
    }
   ],
   "source": [
    "#Đánh giá độ chính xác trên tập huấn luyên:\n",
    "acc_train_one = KNN_titanic_test_one.score(X_titanic_train,y_titanic_train)\n",
    "print('Độ chính xác trên tập huấn luyện:', round(acc_train*100,2))"
   ]
  },
  {
   "cell_type": "code",
   "execution_count": 27,
   "metadata": {},
   "outputs": [
    {
     "name": "stdout",
     "output_type": "stream",
     "text": [
      "Kết quả phân loại hanh khach trên tập dữ liệu TEST:\n",
      "Mo hinh du doan:  [0 0 0 0 1 0 1 1 1 0]\n",
      "Gia tri that   :  [0 0 0 0 1 0 1 1 1 1]\n"
     ]
    }
   ],
   "source": [
    "#Sử dụng mô hình huấn luyện dự đoán trên tập dữ liệu Test\n",
    "y_titanic_pred = KNN_titanic_test_one.predict(X_titanic_test)\n",
    "\n",
    "print(\"Kết quả phân loại hanh khach trên tập dữ liệu TEST:\")\n",
    "print(\"Mo hinh du doan: \", y_titanic_pred[:10])\n",
    "print(\"Gia tri that   : \", y_titanic_test[:10])"
   ]
  },
  {
   "cell_type": "code",
   "execution_count": 28,
   "metadata": {},
   "outputs": [
    {
     "name": "stdout",
     "output_type": "stream",
     "text": [
      "Do chinh xac tren tap test:  85.37\n"
     ]
    }
   ],
   "source": [
    "# tinh do chinh xac cua toan bo tap test\n",
    "from sklearn.metrics import accuracy_score\n",
    "\n",
    "ac_test = accuracy_score(y_titanic_test, y_titanic_pred)\n",
    "print('Do chinh xac tren tap test: ', round(ac_test*100,2))"
   ]
  },
  {
   "cell_type": "markdown",
   "metadata": {},
   "source": [
    "# Bo du lieu 2 (n_neighbors = 9, p = 1, weights: uniform)"
   ]
  },
  {
   "cell_type": "code",
   "execution_count": 29,
   "metadata": {},
   "outputs": [
    {
     "data": {
      "text/plain": [
       "{'algorithm': 'auto',\n",
       " 'leaf_size': 30,\n",
       " 'metric': 'minkowski',\n",
       " 'metric_params': None,\n",
       " 'n_jobs': None,\n",
       " 'n_neighbors': 9,\n",
       " 'p': 1,\n",
       " 'weights': 'uniform'}"
      ]
     },
     "execution_count": 29,
     "metadata": {},
     "output_type": "execute_result"
    }
   ],
   "source": [
    "#Khai báo model KNN sử dụng các tham số n_neighbors = 9, p = 1, weights: uniform\n",
    "\n",
    "KNN_titanic_test_two = KNeighborsClassifier(n_neighbors= 9, p = 1, weights='uniform')\n",
    "#Hiển thị danh sách các tham số của thuật toán:\n",
    "KNN_titanic_test_two.get_params()"
   ]
  },
  {
   "cell_type": "code",
   "execution_count": 32,
   "metadata": {},
   "outputs": [
    {
     "data": {
      "text/plain": [
       "KNeighborsClassifier(n_neighbors=9, p=1)"
      ]
     },
     "execution_count": 32,
     "metadata": {},
     "output_type": "execute_result"
    }
   ],
   "source": [
    "#Thực hiện huấn luyện với dữ liệu tập train\n",
    "KNN_titanic_test_two.fit(X_titanic_train,y_titanic_train)"
   ]
  },
  {
   "cell_type": "code",
   "execution_count": 33,
   "metadata": {},
   "outputs": [
    {
     "name": "stdout",
     "output_type": "stream",
     "text": [
      "Độ chính xác trên tập huấn luyện: 86.44\n"
     ]
    }
   ],
   "source": [
    "#Đánh giá độ chính xác trên tập huấn luyên:\n",
    "acc_train_two = KNN_titanic_test_two.score(X_titanic_train,y_titanic_train)\n",
    "print('Độ chính xác trên tập huấn luyện:', round(acc_train*100,2))"
   ]
  },
  {
   "cell_type": "code",
   "execution_count": 34,
   "metadata": {},
   "outputs": [
    {
     "name": "stdout",
     "output_type": "stream",
     "text": [
      "Kết quả phân loại hanh khach trên tập dữ liệu TEST:\n",
      "Mo hinh du doan:  [0 0 0 0 1 1 1 1 1 0]\n",
      "Gia tri that   :  [0 0 0 0 1 0 1 1 1 1]\n"
     ]
    }
   ],
   "source": [
    "#Sử dụng mô hình huấn luyện dự đoán trên tập dữ liệu Test\n",
    "y_titanic_pred = KNN_titanic_test_two.predict(X_titanic_test)\n",
    "\n",
    "print(\"Kết quả phân loại hanh khach trên tập dữ liệu TEST:\")\n",
    "print(\"Mo hinh du doan: \", y_titanic_pred[:10])\n",
    "print(\"Gia tri that   : \", y_titanic_test[:10])"
   ]
  },
  {
   "cell_type": "code",
   "execution_count": 35,
   "metadata": {},
   "outputs": [
    {
     "name": "stdout",
     "output_type": "stream",
     "text": [
      "Do chinh xac tren tap test:  86.59\n"
     ]
    }
   ],
   "source": [
    "# tinh do chinh xac cua toan bo tap test\n",
    "from sklearn.metrics import accuracy_score\n",
    "\n",
    "ac_test = accuracy_score(y_titanic_test, y_titanic_pred)\n",
    "print('Do chinh xac tren tap test: ', round(ac_test*100,2))"
   ]
  },
  {
   "cell_type": "markdown",
   "metadata": {},
   "source": [
    "# Bo du lieu 3 (n_neighbors = 11, p = 1, weights: uniform)"
   ]
  },
  {
   "cell_type": "code",
   "execution_count": 49,
   "metadata": {},
   "outputs": [
    {
     "name": "stdout",
     "output_type": "stream",
     "text": [
      "Độ chính xác trên tập huấn luyện: 86.44\n",
      "Kết quả phân loại hanh khach trên tập dữ liệu TEST:\n",
      "Mo hinh du doan:  [0 0 0 0 1 1 1 1 1 0]\n",
      "Gia tri that   :  [0 0 0 0 1 0 1 1 1 1]\n",
      "Do chinh xac tren tap test:  86.59\n"
     ]
    }
   ],
   "source": [
    "#Khai báo model KNN sử dụng các tham số n_neighbors = 11, p = 1, weights: uniform\n",
    "\n",
    "KNN_titanic_test_three = KNeighborsClassifier(n_neighbors= 11, p = 1, weights='uniform')\n",
    "#Hiển thị danh sách các tham số của thuật toán:\n",
    "KNN_titanic_test_three.get_params()\n",
    "\n",
    "#Thực hiện huấn luyện với dữ liệu tập train\n",
    "KNN_titanic_test_three.fit(X_titanic_train,y_titanic_train)\n",
    "\n",
    "#Đánh giá độ chính xác trên tập huấn luyên:\n",
    "acc_train_two = KNN_titanic_test_three.score(X_titanic_train,y_titanic_train)\n",
    "print('Độ chính xác trên tập huấn luyện:', round(acc_train*100,2))\n",
    "\n",
    "#Sử dụng mô hình huấn luyện dự đoán trên tập dữ liệu Test\n",
    "y_titanic_pred = KNN_titanic_test_three.predict(X_titanic_test)\n",
    "\n",
    "print(\"Kết quả phân loại hanh khach trên tập dữ liệu TEST:\")\n",
    "print(\"Mo hinh du doan: \", y_titanic_pred[:10])\n",
    "print(\"Gia tri that   : \", y_titanic_test[:10])\n",
    "\n",
    "# tinh do chinh xac cua toan bo tap test\n",
    "from sklearn.metrics import accuracy_score\n",
    "\n",
    "ac_test = accuracy_score(y_titanic_test, y_titanic_pred)\n",
    "print('Do chinh xac tren tap test: ', round(ac_test*100,2))"
   ]
  },
  {
   "cell_type": "markdown",
   "metadata": {},
   "source": [
    "# Bo du lieu 4 (n_neighbors = 15, p = 1, weights: uniform)"
   ]
  },
  {
   "cell_type": "code",
   "execution_count": 50,
   "metadata": {},
   "outputs": [
    {
     "name": "stdout",
     "output_type": "stream",
     "text": [
      "Độ chính xác trên tập huấn luyện: 86.44\n",
      "Kết quả phân loại hanh khach trên tập dữ liệu TEST:\n",
      "Mo hinh du doan:  [0 0 0 0 1 1 1 1 1 0 0 0 0 1 0]\n",
      "Gia tri that   :  [0 0 0 0 1 0 1 1 1 1 0 0 0 1 0]\n",
      "Do chinh xac tren tap test:  86.28\n"
     ]
    }
   ],
   "source": [
    "#Khai báo model KNN sử dụng các tham số n_neighbors = 15, p = 1, weights: uniform\n",
    "\n",
    "KNN_titanic_test_four = KNeighborsClassifier(n_neighbors= 15, p = 1, weights='uniform')\n",
    "#Hiển thị danh sách các tham số của thuật toán:\n",
    "KNN_titanic_test_four.get_params()\n",
    "\n",
    "#Thực hiện huấn luyện với dữ liệu tập train\n",
    "KNN_titanic_test_four.fit(X_titanic_train,y_titanic_train)\n",
    "\n",
    "#Đánh giá độ chính xác trên tập huấn luyên:\n",
    "acc_train_two = KNN_titanic_test_four.score(X_titanic_train,y_titanic_train)\n",
    "print('Độ chính xác trên tập huấn luyện:', round(acc_train*100,2))\n",
    "\n",
    "#Sử dụng mô hình huấn luyện dự đoán trên tập dữ liệu Test\n",
    "y_titanic_pred = KNN_titanic_test_four.predict(X_titanic_test)\n",
    "\n",
    "print(\"Kết quả phân loại hanh khach trên tập dữ liệu TEST:\")\n",
    "print(\"Mo hinh du doan: \", y_titanic_pred[:15])\n",
    "print(\"Gia tri that   : \", y_titanic_test[:15])\n",
    "\n",
    "# tinh do chinh xac cua toan bo tap test\n",
    "from sklearn.metrics import accuracy_score\n",
    "\n",
    "ac_test = accuracy_score(y_titanic_test, y_titanic_pred)\n",
    "print('Do chinh xac tren tap test: ', round(ac_test*100,2))"
   ]
  },
  {
   "cell_type": "markdown",
   "metadata": {},
   "source": [
    "# Bo du lieu 5 (n_neighbors = 7, p = 2, weights: uniform)"
   ]
  },
  {
   "cell_type": "code",
   "execution_count": 51,
   "metadata": {},
   "outputs": [
    {
     "name": "stdout",
     "output_type": "stream",
     "text": [
      "Độ chính xác trên tập huấn luyện: 86.44\n",
      "Kết quả phân loại hanh khach trên tập dữ liệu TEST:\n",
      "Mo hinh du doan:  [0 0 0 0 1 0 1 1 1 0 0 0 0 1 0]\n",
      "Gia tri that   :  [0 0 0 0 1 0 1 1 1 1 0 0 0 1 0]\n",
      "Do chinh xac tren tap test:  85.67\n"
     ]
    }
   ],
   "source": [
    "#Khai báo model KNN sử dụng các tham số n_neighbors = 7, p = 2, weights: uniform\n",
    "\n",
    "KNN_titanic_test_five = KNeighborsClassifier(n_neighbors= 7, p = 2, weights='uniform')\n",
    "#Hiển thị danh sách các tham số của thuật toán:\n",
    "KNN_titanic_test_five.get_params()\n",
    "\n",
    "#Thực hiện huấn luyện với dữ liệu tập train\n",
    "KNN_titanic_test_five.fit(X_titanic_train,y_titanic_train)\n",
    "\n",
    "#Đánh giá độ chính xác trên tập huấn luyên:\n",
    "acc_train_two = KNN_titanic_test_five.score(X_titanic_train,y_titanic_train)\n",
    "print('Độ chính xác trên tập huấn luyện:', round(acc_train*100,2))\n",
    "\n",
    "#Sử dụng mô hình huấn luyện dự đoán trên tập dữ liệu Test\n",
    "y_titanic_pred = KNN_titanic_test_five.predict(X_titanic_test)\n",
    "\n",
    "print(\"Kết quả phân loại hanh khach trên tập dữ liệu TEST:\")\n",
    "print(\"Mo hinh du doan: \", y_titanic_pred[:15])\n",
    "print(\"Gia tri that   : \", y_titanic_test[:15])\n",
    "\n",
    "# tinh do chinh xac cua toan bo tap test\n",
    "from sklearn.metrics import accuracy_score\n",
    "\n",
    "ac_test = accuracy_score(y_titanic_test, y_titanic_pred)\n",
    "print('Do chinh xac tren tap test: ', round(ac_test*100,2))"
   ]
  },
  {
   "cell_type": "markdown",
   "metadata": {},
   "source": [
    "# Bo du lieu 6 (n_neighbors = 9, p = 2, weights: uniform)"
   ]
  },
  {
   "cell_type": "code",
   "execution_count": 52,
   "metadata": {},
   "outputs": [
    {
     "name": "stdout",
     "output_type": "stream",
     "text": [
      "Độ chính xác trên tập huấn luyện: 86.44\n",
      "Kết quả phân loại hanh khach trên tập dữ liệu TEST:\n",
      "Mo hinh du doan:  [0 0 0 0 1 1 1 1 1 0 0 0 0 1 0 1 1 0 0 0 0 0 0 0 0]\n",
      "Gia tri that   :  [0 0 0 0 1 0 1 1 1 1 0 0 0 1 0 1 1 0 0 0 0 0 0 1 0]\n",
      "Do chinh xac tren tap test:  86.59\n"
     ]
    }
   ],
   "source": [
    "#Khai báo model KNN sử dụng các tham số n_neighbors = 9, p = 2, weights: uniform\n",
    "\n",
    "KNN_titanic_test_6 = KNeighborsClassifier(n_neighbors= 9, p = 2, weights='uniform')\n",
    "#Hiển thị danh sách các tham số của thuật toán:\n",
    "KNN_titanic_test_6.get_params()\n",
    "\n",
    "#Thực hiện huấn luyện với dữ liệu tập train\n",
    "KNN_titanic_test_6.fit(X_titanic_train,y_titanic_train)\n",
    "\n",
    "#Đánh giá độ chính xác trên tập huấn luyên:\n",
    "acc_train_two = KNN_titanic_test_6.score(X_titanic_train,y_titanic_train)\n",
    "print('Độ chính xác trên tập huấn luyện:', round(acc_train*100,2))\n",
    "\n",
    "#Sử dụng mô hình huấn luyện dự đoán trên tập dữ liệu Test\n",
    "y_titanic_pred = KNN_titanic_test_6.predict(X_titanic_test)\n",
    "\n",
    "print(\"Kết quả phân loại hanh khach trên tập dữ liệu TEST:\")\n",
    "print(\"Mo hinh du doan: \", y_titanic_pred[:25])\n",
    "print(\"Gia tri that   : \", y_titanic_test[:25])\n",
    "\n",
    "# tinh do chinh xac cua toan bo tap test\n",
    "from sklearn.metrics import accuracy_score\n",
    "\n",
    "ac_test = accuracy_score(y_titanic_test, y_titanic_pred)\n",
    "print('Do chinh xac tren tap test: ', round(ac_test*100,2))"
   ]
  },
  {
   "cell_type": "markdown",
   "metadata": {},
   "source": [
    "# Bo du lieu 7 (n_neighbors = 11, p = 2, weights: uniform)"
   ]
  },
  {
   "cell_type": "code",
   "execution_count": 53,
   "metadata": {},
   "outputs": [
    {
     "name": "stdout",
     "output_type": "stream",
     "text": [
      "Độ chính xác trên tập huấn luyện: 86.44\n",
      "Kết quả phân loại hanh khach trên tập dữ liệu TEST:\n",
      "Mo hinh du doan:  [0 0 0 0 1 1 1 1 1 0 0 0 0 1 0 1 1 0 0 0 0 0 0 0 0]\n",
      "Gia tri that   :  [0 0 0 0 1 0 1 1 1 1 0 0 0 1 0 1 1 0 0 0 0 0 0 1 0]\n",
      "Do chinh xac tren tap test:  85.67\n"
     ]
    }
   ],
   "source": [
    "#Khai báo model KNN sử dụng các tham số n_neighbors = 11, p = 2, weights: uniform\n",
    "\n",
    "KNN_titanic_test_7 = KNeighborsClassifier(n_neighbors= 11, p = 2, weights='uniform')\n",
    "#Hiển thị danh sách các tham số của thuật toán:\n",
    "KNN_titanic_test_7.get_params()\n",
    "\n",
    "#Thực hiện huấn luyện với dữ liệu tập train\n",
    "KNN_titanic_test_7.fit(X_titanic_train,y_titanic_train)\n",
    "\n",
    "#Đánh giá độ chính xác trên tập huấn luyên:\n",
    "acc_train_two = KNN_titanic_test_7.score(X_titanic_train,y_titanic_train)\n",
    "print('Độ chính xác trên tập huấn luyện:', round(acc_train*100,2))\n",
    "\n",
    "#Sử dụng mô hình huấn luyện dự đoán trên tập dữ liệu Test\n",
    "y_titanic_pred = KNN_titanic_test_7.predict(X_titanic_test)\n",
    "\n",
    "print(\"Kết quả phân loại hanh khach trên tập dữ liệu TEST:\")\n",
    "print(\"Mo hinh du doan: \", y_titanic_pred[:25])\n",
    "print(\"Gia tri that   : \", y_titanic_test[:25])\n",
    "\n",
    "# tinh do chinh xac cua toan bo tap test\n",
    "from sklearn.metrics import accuracy_score\n",
    "\n",
    "ac_test = accuracy_score(y_titanic_test, y_titanic_pred)\n",
    "print('Do chinh xac tren tap test: ', round(ac_test*100,2))"
   ]
  },
  {
   "cell_type": "markdown",
   "metadata": {},
   "source": [
    "# Bo du lieu 8 (n_neighbors = 15, p = 2, weights: uniform)"
   ]
  },
  {
   "cell_type": "code",
   "execution_count": 54,
   "metadata": {},
   "outputs": [
    {
     "name": "stdout",
     "output_type": "stream",
     "text": [
      "Độ chính xác trên tập huấn luyện: 86.44\n",
      "Kết quả phân loại hanh khach trên tập dữ liệu TEST:\n",
      "Mo hinh du doan:  [0 0 0 0 1 1 1 1 1 0 0 0 0 1 0 1 1 0 0 0 0 0 0 0 0]\n",
      "Gia tri that   :  [0 0 0 0 1 0 1 1 1 1 0 0 0 1 0 1 1 0 0 0 0 0 0 1 0]\n",
      "Do chinh xac tren tap test:  85.06\n"
     ]
    }
   ],
   "source": [
    "#Khai báo model KNN sử dụng các tham số n_neighbors = 15, p = 2, weights: uniform\n",
    "\n",
    "KNN_titanic_test_8 = KNeighborsClassifier(n_neighbors= 15, p = 2, weights='uniform')\n",
    "#Hiển thị danh sách các tham số của thuật toán:\n",
    "KNN_titanic_test_8.get_params()\n",
    "\n",
    "#Thực hiện huấn luyện với dữ liệu tập train\n",
    "KNN_titanic_test_8.fit(X_titanic_train,y_titanic_train)\n",
    "\n",
    "#Đánh giá độ chính xác trên tập huấn luyên:\n",
    "acc_train_two = KNN_titanic_test_8.score(X_titanic_train,y_titanic_train)\n",
    "print('Độ chính xác trên tập huấn luyện:', round(acc_train*100,2))\n",
    "\n",
    "#Sử dụng mô hình huấn luyện dự đoán trên tập dữ liệu Test\n",
    "y_titanic_pred = KNN_titanic_test_8.predict(X_titanic_test)\n",
    "\n",
    "print(\"Kết quả phân loại hanh khach trên tập dữ liệu TEST:\")\n",
    "print(\"Mo hinh du doan: \", y_titanic_pred[:25])\n",
    "print(\"Gia tri that   : \", y_titanic_test[:25])\n",
    "\n",
    "# tinh do chinh xac cua toan bo tap test\n",
    "from sklearn.metrics import accuracy_score\n",
    "\n",
    "ac_test = accuracy_score(y_titanic_test, y_titanic_pred)\n",
    "print('Do chinh xac tren tap test: ', round(ac_test*100,2))"
   ]
  },
  {
   "cell_type": "markdown",
   "metadata": {},
   "source": [
    "# Bo du lieu 9 (n_neighbors = 7, p = 1, weights: distance)"
   ]
  },
  {
   "cell_type": "code",
   "execution_count": 55,
   "metadata": {},
   "outputs": [
    {
     "name": "stdout",
     "output_type": "stream",
     "text": [
      "Độ chính xác trên tập huấn luyện: 86.44\n",
      "Kết quả phân loại hanh khach trên tập dữ liệu TEST:\n",
      "Mo hinh du doan:  [0 0 0 0 1 0 1 1 1 0 0 0 0 1 0 1 1 0 0 0 0 0 0 0 0]\n",
      "Gia tri that   :  [0 0 0 0 1 0 1 1 1 1 0 0 0 1 0 1 1 0 0 0 0 0 0 1 0]\n",
      "Do chinh xac tren tap test:  82.93\n"
     ]
    }
   ],
   "source": [
    "#Khai báo model KNN sử dụng các tham số n_neighbors = 7, p = 1, weights: distance\n",
    "\n",
    "KNN_titanic_test_9 = KNeighborsClassifier(n_neighbors= 7, p = 1, weights='distance')\n",
    "#Hiển thị danh sách các tham số của thuật toán:\n",
    "KNN_titanic_test_9.get_params()\n",
    "\n",
    "#Thực hiện huấn luyện với dữ liệu tập train\n",
    "KNN_titanic_test_9.fit(X_titanic_train,y_titanic_train)\n",
    "\n",
    "#Đánh giá độ chính xác trên tập huấn luyên:\n",
    "acc_train_two = KNN_titanic_test_9.score(X_titanic_train,y_titanic_train)\n",
    "print('Độ chính xác trên tập huấn luyện:', round(acc_train*100,2))\n",
    "\n",
    "#Sử dụng mô hình huấn luyện dự đoán trên tập dữ liệu Test\n",
    "y_titanic_pred = KNN_titanic_test_9.predict(X_titanic_test)\n",
    "\n",
    "print(\"Kết quả phân loại hanh khach trên tập dữ liệu TEST:\")\n",
    "print(\"Mo hinh du doan: \", y_titanic_pred[:25])\n",
    "print(\"Gia tri that   : \", y_titanic_test[:25])\n",
    "\n",
    "# tinh do chinh xac cua toan bo tap test\n",
    "from sklearn.metrics import accuracy_score\n",
    "\n",
    "ac_test = accuracy_score(y_titanic_test, y_titanic_pred)\n",
    "print('Do chinh xac tren tap test: ', round(ac_test*100,2))"
   ]
  },
  {
   "cell_type": "markdown",
   "metadata": {},
   "source": [
    "# Bo du lieu 10 (n_neighbors = 9, p = 1, weights: distance)¶"
   ]
  },
  {
   "cell_type": "code",
   "execution_count": 56,
   "metadata": {},
   "outputs": [
    {
     "name": "stdout",
     "output_type": "stream",
     "text": [
      "Độ chính xác trên tập huấn luyện: 86.44\n",
      "Kết quả phân loại hanh khach trên tập dữ liệu TEST:\n",
      "Mo hinh du doan:  [0 0 0 0 1 0 1 1 1 0 0 0 0 1 0 1 1 0 0 0 0 0 0 0 0]\n",
      "Gia tri that   :  [0 0 0 0 1 0 1 1 1 1 0 0 0 1 0 1 1 0 0 0 0 0 0 1 0]\n",
      "Do chinh xac tren tap test:  82.93\n"
     ]
    }
   ],
   "source": [
    "#Khai báo model KNN sử dụng các tham số n_neighbors = 9, p = 1, weights: distance\n",
    "\n",
    "KNN_titanic_test_10 = KNeighborsClassifier(n_neighbors= 9, p = 1, weights='distance')\n",
    "#Hiển thị danh sách các tham số của thuật toán:\n",
    "KNN_titanic_test_10.get_params()\n",
    "\n",
    "#Thực hiện huấn luyện với dữ liệu tập train\n",
    "KNN_titanic_test_10.fit(X_titanic_train,y_titanic_train)\n",
    "\n",
    "#Đánh giá độ chính xác trên tập huấn luyên:\n",
    "acc_train_two = KNN_titanic_test_10.score(X_titanic_train,y_titanic_train)\n",
    "print('Độ chính xác trên tập huấn luyện:', round(acc_train*100,2))\n",
    "\n",
    "#Sử dụng mô hình huấn luyện dự đoán trên tập dữ liệu Test\n",
    "y_titanic_pred = KNN_titanic_test_10.predict(X_titanic_test)\n",
    "\n",
    "print(\"Kết quả phân loại hanh khach trên tập dữ liệu TEST:\")\n",
    "print(\"Mo hinh du doan: \", y_titanic_pred[:25])\n",
    "print(\"Gia tri that   : \", y_titanic_test[:25])\n",
    "\n",
    "# tinh do chinh xac cua toan bo tap test\n",
    "from sklearn.metrics import accuracy_score\n",
    "\n",
    "ac_test = accuracy_score(y_titanic_test, y_titanic_pred)\n",
    "print('Do chinh xac tren tap test: ', round(ac_test*100,2))"
   ]
  },
  {
   "cell_type": "markdown",
   "metadata": {},
   "source": [
    "# Bo du lieu 11 (n_neighbors = 11, p = 1, weights: distance)"
   ]
  },
  {
   "cell_type": "code",
   "execution_count": 57,
   "metadata": {},
   "outputs": [
    {
     "name": "stdout",
     "output_type": "stream",
     "text": [
      "Độ chính xác trên tập huấn luyện: 86.44\n",
      "Kết quả phân loại hanh khach trên tập dữ liệu TEST:\n",
      "Mo hinh du doan:  [0 0 0 0 1 0 1 1 1 0 0 0 0 1 0 1 1 0 0 0 0 0 0 0 0]\n",
      "Gia tri that   :  [0 0 0 0 1 0 1 1 1 1 0 0 0 1 0 1 1 0 0 0 0 0 0 1 0]\n",
      "Do chinh xac tren tap test:  83.23\n"
     ]
    }
   ],
   "source": [
    "#Khai báo model KNN sử dụng các tham số n_neighbors = 11, p = 1, weights: distance\n",
    "\n",
    "KNN_titanic_test_11 = KNeighborsClassifier(n_neighbors= 11, p = 1, weights='distance')\n",
    "#Hiển thị danh sách các tham số của thuật toán:\n",
    "KNN_titanic_test_11.get_params()\n",
    "\n",
    "#Thực hiện huấn luyện với dữ liệu tập train\n",
    "KNN_titanic_test_11.fit(X_titanic_train,y_titanic_train)\n",
    "\n",
    "#Đánh giá độ chính xác trên tập huấn luyên:\n",
    "acc_train_two = KNN_titanic_test_11.score(X_titanic_train,y_titanic_train)\n",
    "print('Độ chính xác trên tập huấn luyện:', round(acc_train*100,2))\n",
    "\n",
    "#Sử dụng mô hình huấn luyện dự đoán trên tập dữ liệu Test\n",
    "y_titanic_pred = KNN_titanic_test_11.predict(X_titanic_test)\n",
    "\n",
    "print(\"Kết quả phân loại hanh khach trên tập dữ liệu TEST:\")\n",
    "print(\"Mo hinh du doan: \", y_titanic_pred[:25])\n",
    "print(\"Gia tri that   : \", y_titanic_test[:25])\n",
    "\n",
    "# tinh do chinh xac cua toan bo tap test\n",
    "from sklearn.metrics import accuracy_score\n",
    "\n",
    "ac_test = accuracy_score(y_titanic_test, y_titanic_pred)\n",
    "print('Do chinh xac tren tap test: ', round(ac_test*100,2))"
   ]
  },
  {
   "cell_type": "markdown",
   "metadata": {},
   "source": [
    "# Bo du lieu 12 (n_neighbors = 15, p = 1, weights: distance)"
   ]
  },
  {
   "cell_type": "code",
   "execution_count": 58,
   "metadata": {},
   "outputs": [
    {
     "name": "stdout",
     "output_type": "stream",
     "text": [
      "Độ chính xác trên tập huấn luyện: 86.44\n",
      "Kết quả phân loại hanh khach trên tập dữ liệu TEST:\n",
      "Mo hinh du doan:  [0 0 0 0 1 0 1 1 1 0 0 0 0 1 0 1 1 0 0 0 0 0 0 0 0]\n",
      "Gia tri that   :  [0 0 0 0 1 0 1 1 1 1 0 0 0 1 0 1 1 0 0 0 0 0 0 1 0]\n",
      "Do chinh xac tren tap test:  82.93\n"
     ]
    }
   ],
   "source": [
    "#Khai báo model KNN sử dụng các tham số n_neighbors = 15, p = 1, weights: distance\n",
    "\n",
    "KNN_titanic_test_12 = KNeighborsClassifier(n_neighbors= 15, p = 1, weights='distance')\n",
    "#Hiển thị danh sách các tham số của thuật toán:\n",
    "KNN_titanic_test_12.get_params()\n",
    "\n",
    "#Thực hiện huấn luyện với dữ liệu tập train\n",
    "KNN_titanic_test_12.fit(X_titanic_train,y_titanic_train)\n",
    "\n",
    "#Đánh giá độ chính xác trên tập huấn luyên:\n",
    "acc_train_two = KNN_titanic_test_12.score(X_titanic_train,y_titanic_train)\n",
    "print('Độ chính xác trên tập huấn luyện:', round(acc_train*100,2))\n",
    "\n",
    "#Sử dụng mô hình huấn luyện dự đoán trên tập dữ liệu Test\n",
    "y_titanic_pred = KNN_titanic_test_12.predict(X_titanic_test)\n",
    "\n",
    "print(\"Kết quả phân loại hanh khach trên tập dữ liệu TEST:\")\n",
    "print(\"Mo hinh du doan: \", y_titanic_pred[:25])\n",
    "print(\"Gia tri that   : \", y_titanic_test[:25])\n",
    "\n",
    "# tinh do chinh xac cua toan bo tap test\n",
    "from sklearn.metrics import accuracy_score\n",
    "\n",
    "ac_test = accuracy_score(y_titanic_test, y_titanic_pred)\n",
    "print('Do chinh xac tren tap test: ', round(ac_test*100,2))"
   ]
  },
  {
   "cell_type": "markdown",
   "metadata": {},
   "source": [
    "# Bo du lieu 13 (n_neighbors = 7, p = 2, weights: distance)"
   ]
  },
  {
   "cell_type": "code",
   "execution_count": 59,
   "metadata": {},
   "outputs": [
    {
     "name": "stdout",
     "output_type": "stream",
     "text": [
      "Độ chính xác trên tập huấn luyện: 86.44\n",
      "Kết quả phân loại hanh khach trên tập dữ liệu TEST:\n",
      "Mo hinh du doan:  [0 0 0 0 1 0 1 1 1 0 0 0 0 1 0 1 1 0 0 0 0 0 0 0 0]\n",
      "Gia tri that   :  [0 0 0 0 1 0 1 1 1 1 0 0 0 1 0 1 1 0 0 0 0 0 0 1 0]\n",
      "Do chinh xac tren tap test:  82.93\n"
     ]
    }
   ],
   "source": [
    "#Khai báo model KNN sử dụng các tham số n_neighbors = 7, p = 2, weights: distance\n",
    "\n",
    "KNN_titanic_test_13 = KNeighborsClassifier(n_neighbors= 7, p = 2, weights='distance')\n",
    "#Hiển thị danh sách các tham số của thuật toán:\n",
    "KNN_titanic_test_13.get_params()\n",
    "\n",
    "#Thực hiện huấn luyện với dữ liệu tập train\n",
    "KNN_titanic_test_13.fit(X_titanic_train,y_titanic_train)\n",
    "\n",
    "#Đánh giá độ chính xác trên tập huấn luyên:\n",
    "acc_train_two = KNN_titanic_test_13.score(X_titanic_train,y_titanic_train)\n",
    "print('Độ chính xác trên tập huấn luyện:', round(acc_train*100,2))\n",
    "\n",
    "#Sử dụng mô hình huấn luyện dự đoán trên tập dữ liệu Test\n",
    "y_titanic_pred = KNN_titanic_test_13.predict(X_titanic_test)\n",
    "\n",
    "print(\"Kết quả phân loại hanh khach trên tập dữ liệu TEST:\")\n",
    "print(\"Mo hinh du doan: \", y_titanic_pred[:25])\n",
    "print(\"Gia tri that   : \", y_titanic_test[:25])\n",
    "\n",
    "# tinh do chinh xac cua toan bo tap test\n",
    "from sklearn.metrics import accuracy_score\n",
    "\n",
    "ac_test = accuracy_score(y_titanic_test, y_titanic_pred)\n",
    "print('Do chinh xac tren tap test: ', round(ac_test*100,2))"
   ]
  },
  {
   "cell_type": "markdown",
   "metadata": {},
   "source": [
    "# Bo du lieu 14 (n_neighbors = 9, p = 2, weights: distance)¶"
   ]
  },
  {
   "cell_type": "code",
   "execution_count": 60,
   "metadata": {},
   "outputs": [
    {
     "name": "stdout",
     "output_type": "stream",
     "text": [
      "Độ chính xác trên tập huấn luyện: 86.44\n",
      "Kết quả phân loại hanh khach trên tập dữ liệu TEST:\n",
      "Mo hinh du doan:  [0 0 0 0 1 0 1 1 1 0 0 0 0 1 0 1 1 0 0 0 0 0 0 0 0]\n",
      "Gia tri that   :  [0 0 0 0 1 0 1 1 1 1 0 0 0 1 0 1 1 0 0 0 0 0 0 1 0]\n",
      "Do chinh xac tren tap test:  83.23\n"
     ]
    }
   ],
   "source": [
    "#Khai báo model KNN sử dụng các tham số n_neighbors = 9, p = 2, weights: distance\n",
    "\n",
    "KNN_titanic_test_14 = KNeighborsClassifier(n_neighbors= 9, p = 2, weights='distance')\n",
    "#Hiển thị danh sách các tham số của thuật toán:\n",
    "KNN_titanic_test_14.get_params()\n",
    "\n",
    "#Thực hiện huấn luyện với dữ liệu tập train\n",
    "KNN_titanic_test_14.fit(X_titanic_train,y_titanic_train)\n",
    "\n",
    "#Đánh giá độ chính xác trên tập huấn luyên:\n",
    "acc_train_two = KNN_titanic_test_14.score(X_titanic_train,y_titanic_train)\n",
    "print('Độ chính xác trên tập huấn luyện:', round(acc_train*100,2))\n",
    "\n",
    "#Sử dụng mô hình huấn luyện dự đoán trên tập dữ liệu Test\n",
    "y_titanic_pred = KNN_titanic_test_14.predict(X_titanic_test)\n",
    "\n",
    "print(\"Kết quả phân loại hanh khach trên tập dữ liệu TEST:\")\n",
    "print(\"Mo hinh du doan: \", y_titanic_pred[:25])\n",
    "print(\"Gia tri that   : \", y_titanic_test[:25])\n",
    "\n",
    "# tinh do chinh xac cua toan bo tap test\n",
    "from sklearn.metrics import accuracy_score\n",
    "\n",
    "ac_test = accuracy_score(y_titanic_test, y_titanic_pred)\n",
    "print('Do chinh xac tren tap test: ', round(ac_test*100,2))"
   ]
  },
  {
   "cell_type": "markdown",
   "metadata": {},
   "source": [
    "# Khai báo model KNN sử dụng các tham số n_neighbors = 11, p = 2, weights: distance"
   ]
  },
  {
   "cell_type": "code",
   "execution_count": 61,
   "metadata": {},
   "outputs": [
    {
     "name": "stdout",
     "output_type": "stream",
     "text": [
      "Độ chính xác trên tập huấn luyện: 86.44\n",
      "Kết quả phân loại hanh khach trên tập dữ liệu TEST:\n",
      "Mo hinh du doan:  [0 0 0 0 1 0 1 1 1 0 0 0 0 1 0 1 1 0 0 0 0 0 0 0 0]\n",
      "Gia tri that   :  [0 0 0 0 1 0 1 1 1 1 0 0 0 1 0 1 1 0 0 0 0 0 0 1 0]\n",
      "Do chinh xac tren tap test:  82.93\n"
     ]
    }
   ],
   "source": [
    "#Khai báo model KNN sử dụng các tham số n_neighbors = 11, p = 2, weights: distance\n",
    "\n",
    "KNN_titanic_test_15 = KNeighborsClassifier(n_neighbors= 11, p = 2, weights='distance')\n",
    "#Hiển thị danh sách các tham số của thuật toán:\n",
    "KNN_titanic_test_15.get_params()\n",
    "\n",
    "#Thực hiện huấn luyện với dữ liệu tập train\n",
    "KNN_titanic_test_15.fit(X_titanic_train,y_titanic_train)\n",
    "\n",
    "#Đánh giá độ chính xác trên tập huấn luyên:\n",
    "acc_train_two = KNN_titanic_test_15.score(X_titanic_train,y_titanic_train)\n",
    "print('Độ chính xác trên tập huấn luyện:', round(acc_train*100,2))\n",
    "\n",
    "#Sử dụng mô hình huấn luyện dự đoán trên tập dữ liệu Test\n",
    "y_titanic_pred = KNN_titanic_test_15.predict(X_titanic_test)\n",
    "\n",
    "print(\"Kết quả phân loại hanh khach trên tập dữ liệu TEST:\")\n",
    "print(\"Mo hinh du doan: \", y_titanic_pred[:25])\n",
    "print(\"Gia tri that   : \", y_titanic_test[:25])\n",
    "\n",
    "# tinh do chinh xac cua toan bo tap test\n",
    "from sklearn.metrics import accuracy_score\n",
    "\n",
    "ac_test = accuracy_score(y_titanic_test, y_titanic_pred)\n",
    "print('Do chinh xac tren tap test: ', round(ac_test*100,2))"
   ]
  },
  {
   "cell_type": "markdown",
   "metadata": {},
   "source": [
    "# Khai báo model KNN sử dụng các tham số n_neighbors = 15, p = 2, weights: distance"
   ]
  },
  {
   "cell_type": "code",
   "execution_count": 63,
   "metadata": {},
   "outputs": [
    {
     "name": "stdout",
     "output_type": "stream",
     "text": [
      "Độ chính xác trên tập huấn luyện: 86.44\n",
      "Kết quả phân loại hanh khach trên tập dữ liệu TEST:\n",
      "Mo hinh du doan:  [0 0 0 0 1 0 1 1 1 0 0 0 0 1 0 1 1 0 0 0 0 0 0 0 0]\n",
      "Gia tri that   :  [0 0 0 0 1 0 1 1 1 1 0 0 0 1 0 1 1 0 0 0 0 0 0 1 0]\n",
      "Do chinh xac tren tap test:  82.62\n"
     ]
    }
   ],
   "source": [
    "#Khai báo model KNN sử dụng các tham số n_neighbors = 15, p = 2, weights: distance\n",
    "\n",
    "KNN_titanic_test_16 = KNeighborsClassifier(n_neighbors= 15, p = 2, weights='distance')\n",
    "#Hiển thị danh sách các tham số của thuật toán:\n",
    "KNN_titanic_test_16.get_params()\n",
    "\n",
    "#Thực hiện huấn luyện với dữ liệu tập train\n",
    "KNN_titanic_test_16.fit(X_titanic_train,y_titanic_train)\n",
    "\n",
    "#Đánh giá độ chính xác trên tập huấn luyên:\n",
    "acc_train_two = KNN_titanic_test_16.score(X_titanic_train,y_titanic_train)\n",
    "print('Độ chính xác trên tập huấn luyện:', round(acc_train*100,2))\n",
    "\n",
    "#Sử dụng mô hình huấn luyện dự đoán trên tập dữ liệu Test\n",
    "y_titanic_pred = KNN_titanic_test_16.predict(X_titanic_test)\n",
    "\n",
    "print(\"Kết quả phân loại hanh khach trên tập dữ liệu TEST:\")\n",
    "print(\"Mo hinh du doan: \", y_titanic_pred[:25])\n",
    "print(\"Gia tri that   : \", y_titanic_test[:25])\n",
    "\n",
    "# tinh do chinh xac cua toan bo tap test\n",
    "from sklearn.metrics import accuracy_score\n",
    "\n",
    "ac_test = accuracy_score(y_titanic_test, y_titanic_pred)\n",
    "print('Do chinh xac tren tap test: ', round(ac_test*100,2))"
   ]
  },
  {
   "cell_type": "code",
   "execution_count": null,
   "metadata": {},
   "outputs": [],
   "source": []
  },
  {
   "cell_type": "markdown",
   "metadata": {},
   "source": [
    "# THỰC HÀNH 3.1: \n",
    "---\n",
    "Sử dụng thuật toán KNN phân loại rượu dựa vào các thống số liên quan\n",
    "\n",
    "* Tìm hiểu tập dữ liệu mẫu \"Wine recognition dataset\" của Sklearn (đã làm trong chương 2)\n",
    "    - Các biến độc lập (input - features)\n",
    "    - Biến phụ thuộc  (label - target)\n",
    "<img src='pic/win1.png' width='250px'>\n",
    "* Áp dụng thuật toán KNN để phân loại rượu\n",
    "    - Tách tập dữ liệu theo tỷ lệ 75% cho tập huấn luyện - 25% cho tập kiểm tra\n",
    "    - Sử dụng thuật toán KNN với các trường hợp: K= 5, 7, 11, 13 cho biết độ chính xác ứng với từng K đó trên tập Test.\n",
    "    - Áp dụng thuật toán KNN với k=9 và có đánh trọng số các điểm lân cận. Cho biết độ chính xác của thuật toán trên tập Test và Ma trận confusion tương ứng."
   ]
  },
  {
   "cell_type": "code",
   "execution_count": 1,
   "metadata": {},
   "outputs": [
    {
     "name": "stdout",
     "output_type": "stream",
     "text": [
      "<class 'pandas.core.frame.DataFrame'>\n",
      "RangeIndex: 178 entries, 0 to 177\n",
      "Data columns (total 14 columns):\n",
      " #   Column                        Non-Null Count  Dtype  \n",
      "---  ------                        --------------  -----  \n",
      " 0   alcohol                       178 non-null    float64\n",
      " 1   malic_acid                    178 non-null    float64\n",
      " 2   ash                           178 non-null    float64\n",
      " 3   alcalinity_of_ash             178 non-null    float64\n",
      " 4   magnesium                     178 non-null    float64\n",
      " 5   total_phenols                 178 non-null    float64\n",
      " 6   flavanoids                    178 non-null    float64\n",
      " 7   nonflavanoid_phenols          178 non-null    float64\n",
      " 8   proanthocyanins               178 non-null    float64\n",
      " 9   color_intensity               178 non-null    float64\n",
      " 10  hue                           178 non-null    float64\n",
      " 11  od280/od315_of_diluted_wines  178 non-null    float64\n",
      " 12  proline                       178 non-null    float64\n",
      " 13  label                         178 non-null    int32  \n",
      "dtypes: float64(13), int32(1)\n",
      "memory usage: 18.9 KB\n"
     ]
    }
   ],
   "source": [
    "#{HỌC VIÊN VIẾT CODE Ở ĐÂY!}\n",
    "\n",
    "#{HỌC VIÊN VIẾT CODE Ở ĐÂY}\n",
    "from sklearn.datasets import load_wine\n",
    "import pandas as pd\n",
    "\n",
    "data = load_wine()\n",
    "df_wine = pd.DataFrame(data['data'], columns=data['feature_names'])\n",
    "df_wine['label'] = data['target']\n",
    "df_wine.info()\n"
   ]
  },
  {
   "cell_type": "code",
   "execution_count": 65,
   "metadata": {},
   "outputs": [
    {
     "data": {
      "text/html": [
       "<div>\n",
       "<style scoped>\n",
       "    .dataframe tbody tr th:only-of-type {\n",
       "        vertical-align: middle;\n",
       "    }\n",
       "\n",
       "    .dataframe tbody tr th {\n",
       "        vertical-align: top;\n",
       "    }\n",
       "\n",
       "    .dataframe thead th {\n",
       "        text-align: right;\n",
       "    }\n",
       "</style>\n",
       "<table border=\"1\" class=\"dataframe\">\n",
       "  <thead>\n",
       "    <tr style=\"text-align: right;\">\n",
       "      <th></th>\n",
       "      <th>alcohol</th>\n",
       "      <th>malic_acid</th>\n",
       "      <th>ash</th>\n",
       "      <th>alcalinity_of_ash</th>\n",
       "      <th>magnesium</th>\n",
       "      <th>total_phenols</th>\n",
       "      <th>flavanoids</th>\n",
       "      <th>nonflavanoid_phenols</th>\n",
       "      <th>proanthocyanins</th>\n",
       "      <th>color_intensity</th>\n",
       "      <th>hue</th>\n",
       "      <th>od280/od315_of_diluted_wines</th>\n",
       "      <th>proline</th>\n",
       "      <th>label</th>\n",
       "    </tr>\n",
       "  </thead>\n",
       "  <tbody>\n",
       "    <tr>\n",
       "      <th>0</th>\n",
       "      <td>14.23</td>\n",
       "      <td>1.71</td>\n",
       "      <td>2.43</td>\n",
       "      <td>15.6</td>\n",
       "      <td>127.0</td>\n",
       "      <td>2.80</td>\n",
       "      <td>3.06</td>\n",
       "      <td>0.28</td>\n",
       "      <td>2.29</td>\n",
       "      <td>5.64</td>\n",
       "      <td>1.04</td>\n",
       "      <td>3.92</td>\n",
       "      <td>1065.0</td>\n",
       "      <td>0</td>\n",
       "    </tr>\n",
       "    <tr>\n",
       "      <th>1</th>\n",
       "      <td>13.20</td>\n",
       "      <td>1.78</td>\n",
       "      <td>2.14</td>\n",
       "      <td>11.2</td>\n",
       "      <td>100.0</td>\n",
       "      <td>2.65</td>\n",
       "      <td>2.76</td>\n",
       "      <td>0.26</td>\n",
       "      <td>1.28</td>\n",
       "      <td>4.38</td>\n",
       "      <td>1.05</td>\n",
       "      <td>3.40</td>\n",
       "      <td>1050.0</td>\n",
       "      <td>0</td>\n",
       "    </tr>\n",
       "    <tr>\n",
       "      <th>2</th>\n",
       "      <td>13.16</td>\n",
       "      <td>2.36</td>\n",
       "      <td>2.67</td>\n",
       "      <td>18.6</td>\n",
       "      <td>101.0</td>\n",
       "      <td>2.80</td>\n",
       "      <td>3.24</td>\n",
       "      <td>0.30</td>\n",
       "      <td>2.81</td>\n",
       "      <td>5.68</td>\n",
       "      <td>1.03</td>\n",
       "      <td>3.17</td>\n",
       "      <td>1185.0</td>\n",
       "      <td>0</td>\n",
       "    </tr>\n",
       "    <tr>\n",
       "      <th>3</th>\n",
       "      <td>14.37</td>\n",
       "      <td>1.95</td>\n",
       "      <td>2.50</td>\n",
       "      <td>16.8</td>\n",
       "      <td>113.0</td>\n",
       "      <td>3.85</td>\n",
       "      <td>3.49</td>\n",
       "      <td>0.24</td>\n",
       "      <td>2.18</td>\n",
       "      <td>7.80</td>\n",
       "      <td>0.86</td>\n",
       "      <td>3.45</td>\n",
       "      <td>1480.0</td>\n",
       "      <td>0</td>\n",
       "    </tr>\n",
       "    <tr>\n",
       "      <th>4</th>\n",
       "      <td>13.24</td>\n",
       "      <td>2.59</td>\n",
       "      <td>2.87</td>\n",
       "      <td>21.0</td>\n",
       "      <td>118.0</td>\n",
       "      <td>2.80</td>\n",
       "      <td>2.69</td>\n",
       "      <td>0.39</td>\n",
       "      <td>1.82</td>\n",
       "      <td>4.32</td>\n",
       "      <td>1.04</td>\n",
       "      <td>2.93</td>\n",
       "      <td>735.0</td>\n",
       "      <td>0</td>\n",
       "    </tr>\n",
       "  </tbody>\n",
       "</table>\n",
       "</div>"
      ],
      "text/plain": [
       "   alcohol  malic_acid   ash  alcalinity_of_ash  magnesium  total_phenols  \\\n",
       "0    14.23        1.71  2.43               15.6      127.0           2.80   \n",
       "1    13.20        1.78  2.14               11.2      100.0           2.65   \n",
       "2    13.16        2.36  2.67               18.6      101.0           2.80   \n",
       "3    14.37        1.95  2.50               16.8      113.0           3.85   \n",
       "4    13.24        2.59  2.87               21.0      118.0           2.80   \n",
       "\n",
       "   flavanoids  nonflavanoid_phenols  proanthocyanins  color_intensity   hue  \\\n",
       "0        3.06                  0.28             2.29             5.64  1.04   \n",
       "1        2.76                  0.26             1.28             4.38  1.05   \n",
       "2        3.24                  0.30             2.81             5.68  1.03   \n",
       "3        3.49                  0.24             2.18             7.80  0.86   \n",
       "4        2.69                  0.39             1.82             4.32  1.04   \n",
       "\n",
       "   od280/od315_of_diluted_wines  proline  label  \n",
       "0                          3.92   1065.0      0  \n",
       "1                          3.40   1050.0      0  \n",
       "2                          3.17   1185.0      0  \n",
       "3                          3.45   1480.0      0  \n",
       "4                          2.93    735.0      0  "
      ]
     },
     "execution_count": 65,
     "metadata": {},
     "output_type": "execute_result"
    }
   ],
   "source": [
    "#Hiển thị 5 dòng đâu tiên của dữ liệu\n",
    "df_wine.head()"
   ]
  },
  {
   "cell_type": "code",
   "execution_count": 66,
   "metadata": {},
   "outputs": [
    {
     "name": "stdout",
     "output_type": "stream",
     "text": [
      "1    71\n",
      "0    59\n",
      "2    48\n",
      "Name: label, dtype: int64\n"
     ]
    }
   ],
   "source": [
    "#Kiểm tra cân bằng dữ liệu\n",
    "x = df_wine['label'].value_counts()\n",
    "print(x)"
   ]
  },
  {
   "cell_type": "code",
   "execution_count": 68,
   "metadata": {},
   "outputs": [
    {
     "data": {
      "image/png": "[encoded data removed]",
      "text/plain": [
       "<Figure size 864x288 with 2 Axes>"
      ]
     },
     "metadata": {
      "needs_background": "light"
     },
     "output_type": "display_data"
    }
   ],
   "source": [
    "#Trực quan hóa số liệu\n",
    "label=['1: class 1', '0: class 0', '2:class 2']\n",
    "fig = plt.figure(figsize=(12,4))\n",
    "plt.suptitle('SỐ LƯỢNG MẪU CHO MỖI LỚP RUOU')\n",
    "plt.subplot(1,2,1)\n",
    "plt.pie(x, labels=label,\n",
    "        autopct='%.1f',\n",
    "        colors = color1,\n",
    "        wedgeprops=dict(width=0.7,edgecolor='w'))\n",
    "\n",
    "plt.subplot(1,2,2)\n",
    "plt.bar(label,x,\n",
    "        color=color1)\n",
    "plt.grid(True)\n",
    "plt.show()"
   ]
  },
  {
   "cell_type": "code",
   "execution_count": 69,
   "metadata": {},
   "outputs": [
    {
     "data": {
      "text/plain": [
       "Index(['alcohol', 'malic_acid', 'ash', 'alcalinity_of_ash', 'magnesium',\n",
       "       'total_phenols', 'flavanoids', 'nonflavanoid_phenols',\n",
       "       'proanthocyanins', 'color_intensity', 'hue',\n",
       "       'od280/od315_of_diluted_wines', 'proline', 'label'],\n",
       "      dtype='object')"
      ]
     },
     "execution_count": 69,
     "metadata": {},
     "output_type": "execute_result"
    }
   ],
   "source": [
    "df_wine.columns"
   ]
  },
  {
   "cell_type": "code",
   "execution_count": 70,
   "metadata": {},
   "outputs": [
    {
     "name": "stdout",
     "output_type": "stream",
     "text": [
      "Kích thước biến độc lập X(features): (178, 13)\n",
      "Kích thước biến phụ thuộc y(target)   : (178,)\n"
     ]
    }
   ],
   "source": [
    "#Phân tách Biến độc lập:\n",
    "X_wine = df_wine.loc[:,['alcohol', 'malic_acid', 'ash', 'alcalinity_of_ash', 'magnesium',\n",
    "       'total_phenols', 'flavanoids', 'nonflavanoid_phenols',\n",
    "       'proanthocyanins', 'color_intensity', 'hue',\n",
    "       'od280/od315_of_diluted_wines', 'proline']].values\n",
    "\n",
    "#Phân tách biến phụ thuộc:\n",
    "y_wine = df_wine.loc[:,['label']].values.ravel()\n",
    "\n",
    "print('Kích thước biến độc lập X(features):', X_wine.shape)\n",
    "print('Kích thước biến phụ thuộc y(target)   :', y_wine.shape)"
   ]
  },
  {
   "cell_type": "code",
   "execution_count": 71,
   "metadata": {},
   "outputs": [
    {
     "data": {
      "text/plain": [
       "array([[1.423e+01, 1.710e+00, 2.430e+00, ..., 1.040e+00, 3.920e+00,\n",
       "        1.065e+03],\n",
       "       [1.320e+01, 1.780e+00, 2.140e+00, ..., 1.050e+00, 3.400e+00,\n",
       "        1.050e+03],\n",
       "       [1.316e+01, 2.360e+00, 2.670e+00, ..., 1.030e+00, 3.170e+00,\n",
       "        1.185e+03],\n",
       "       ...,\n",
       "       [1.327e+01, 4.280e+00, 2.260e+00, ..., 5.900e-01, 1.560e+00,\n",
       "        8.350e+02],\n",
       "       [1.317e+01, 2.590e+00, 2.370e+00, ..., 6.000e-01, 1.620e+00,\n",
       "        8.400e+02],\n",
       "       [1.413e+01, 4.100e+00, 2.740e+00, ..., 6.100e-01, 1.600e+00,\n",
       "        5.600e+02]])"
      ]
     },
     "execution_count": 71,
     "metadata": {},
     "output_type": "execute_result"
    }
   ],
   "source": [
    "X_wine"
   ]
  },
  {
   "cell_type": "code",
   "execution_count": 72,
   "metadata": {},
   "outputs": [
    {
     "data": {
      "text/plain": [
       "array([0, 0, 0, 0, 0, 0, 0, 0, 0, 0, 0, 0, 0, 0, 0, 0, 0, 0, 0, 0, 0, 0,\n",
       "       0, 0, 0, 0, 0, 0, 0, 0, 0, 0, 0, 0, 0, 0, 0, 0, 0, 0, 0, 0, 0, 0,\n",
       "       0, 0, 0, 0, 0, 0, 0, 0, 0, 0, 0, 0, 0, 0, 0, 1, 1, 1, 1, 1, 1, 1,\n",
       "       1, 1, 1, 1, 1, 1, 1, 1, 1, 1, 1, 1, 1, 1, 1, 1, 1, 1, 1, 1, 1, 1,\n",
       "       1, 1, 1, 1, 1, 1, 1, 1, 1, 1, 1, 1, 1, 1, 1, 1, 1, 1, 1, 1, 1, 1,\n",
       "       1, 1, 1, 1, 1, 1, 1, 1, 1, 1, 1, 1, 1, 1, 1, 1, 1, 1, 1, 1, 2, 2,\n",
       "       2, 2, 2, 2, 2, 2, 2, 2, 2, 2, 2, 2, 2, 2, 2, 2, 2, 2, 2, 2, 2, 2,\n",
       "       2, 2, 2, 2, 2, 2, 2, 2, 2, 2, 2, 2, 2, 2, 2, 2, 2, 2, 2, 2, 2, 2,\n",
       "       2, 2])"
      ]
     },
     "execution_count": 72,
     "metadata": {},
     "output_type": "execute_result"
    }
   ],
   "source": [
    "y_wine"
   ]
  },
  {
   "cell_type": "code",
   "execution_count": 73,
   "metadata": {},
   "outputs": [],
   "source": [
    "# Tách tập dữ liệu theo tỷ lệ 75% cho tập huấn luyện - 25% cho tập kiểm tra"
   ]
  },
  {
   "cell_type": "code",
   "execution_count": 92,
   "metadata": {},
   "outputs": [
    {
     "name": "stdout",
     "output_type": "stream",
     "text": [
      "1. Kích thước tập Training:  133\n",
      "2. Kích thước tập Test    :  45\n"
     ]
    }
   ],
   "source": [
    "from sklearn.model_selection import train_test_split\n",
    "X_train, X_test, y_train, y_test = train_test_split(X_wine, \n",
    "                                                    y_wine,\n",
    "                                                    test_size=0.25,\n",
    "                                                    random_state=42)\n",
    "\n",
    "print(\"1. Kích thước tập Training: \", len(y_train))\n",
    "print(\"2. Kích thước tập Test    : \",len(y_test))\n",
    "# random_state mục đích: lấy ngẫu nhiên 105 mẫu trong 150 mẫu (40 -> 60)"
   ]
  },
  {
   "cell_type": "code",
   "execution_count": 75,
   "metadata": {},
   "outputs": [
    {
     "data": {
      "text/plain": [
       "{'algorithm': 'auto',\n",
       " 'leaf_size': 30,\n",
       " 'metric': 'minkowski',\n",
       " 'metric_params': None,\n",
       " 'n_jobs': None,\n",
       " 'n_neighbors': 5,\n",
       " 'p': 2,\n",
       " 'weights': 'uniform'}"
      ]
     },
     "execution_count": 75,
     "metadata": {},
     "output_type": "execute_result"
    }
   ],
   "source": [
    "#Khai báo sử dụng thuật toán KNN cho bài toán phân lớp:\n",
    "from sklearn.neighbors import KNeighborsClassifier\n",
    "from sklearn.metrics import accuracy_score\n",
    "\n",
    "#Khai báo model KNN sử dụng các tham số mặc định\n",
    "KNN_wine = KNeighborsClassifier()\n",
    "\n",
    "#Hiển thị danh sách các tham số của thuật toán:\n",
    "KNN_wine.get_params()"
   ]
  },
  {
   "cell_type": "code",
   "execution_count": 76,
   "metadata": {},
   "outputs": [
    {
     "data": {
      "text/plain": [
       "KNeighborsClassifier()"
      ]
     },
     "execution_count": 76,
     "metadata": {},
     "output_type": "execute_result"
    }
   ],
   "source": [
    "#Thực hiện huấn luyện với dữ liệu tập train\n",
    "KNN_wine.fit(X_train,y_train)"
   ]
  },
  {
   "cell_type": "code",
   "execution_count": 77,
   "metadata": {},
   "outputs": [
    {
     "name": "stdout",
     "output_type": "stream",
     "text": [
      "Độ chính xác trên tập huấn luyện: 76.69\n"
     ]
    }
   ],
   "source": [
    "#Đánh giá độ chính xác trên tập huấn luyên:\n",
    "acc_train = KNN_wine.score(X_train,y_train)\n",
    "print('Độ chính xác trên tập huấn luyện:', round(acc_train*100,2))"
   ]
  },
  {
   "cell_type": "code",
   "execution_count": 78,
   "metadata": {},
   "outputs": [
    {
     "name": "stdout",
     "output_type": "stream",
     "text": [
      "Kết quả phân loại wine trên tập dữ liệu TEST:\n",
      "Predicted labels:  [2 0 2 0 1 0 2 2 1 0 2 2 0 1 0 1 1 1 0 1 0 1 2 1 1 1 1 2 1 0 0 1 2 0 0 0 2\n",
      " 2 2 1 0 1 1 0 1]\n",
      "Ground truth    :  [0 0 2 0 1 0 1 2 1 2 0 2 0 1 0 1 1 1 0 1 0 1 1 2 2 2 1 1 1 0 0 1 2 0 0 0 2\n",
      " 2 1 2 0 1 1 1 2]\n"
     ]
    }
   ],
   "source": [
    "#Sử dụng mô hình huấn luyện dự đoán trên tập dữ liệu Test\n",
    "y_pred = KNN_wine.predict(X_test)\n",
    "\n",
    "print(\"Kết quả phân loại wine trên tập dữ liệu TEST:\")\n",
    "print(\"Predicted labels: \", y_pred)\n",
    "print(\"Ground truth    : \", y_test)"
   ]
  },
  {
   "cell_type": "code",
   "execution_count": 79,
   "metadata": {},
   "outputs": [
    {
     "name": "stdout",
     "output_type": "stream",
     "text": [
      "Độ chính xác của mô hình phân lớp wine (k=5 default): 0.7111111111111111\n",
      "Độ chính xác theo %: 71.11\n"
     ]
    }
   ],
   "source": [
    "from sklearn.metrics import accuracy_score\n",
    "acc1 = accuracy_score(y_test, y_pred)\n",
    "print('Độ chính xác của mô hình phân lớp wine (k=5 default):', acc1)\n",
    "print('Độ chính xác theo %:', round(acc1*100,2))"
   ]
  },
  {
   "cell_type": "markdown",
   "metadata": {},
   "source": [
    "# k = 7"
   ]
  },
  {
   "cell_type": "code",
   "execution_count": 80,
   "metadata": {},
   "outputs": [
    {
     "data": {
      "text/plain": [
       "{'algorithm': 'auto',\n",
       " 'leaf_size': 30,\n",
       " 'metric': 'minkowski',\n",
       " 'metric_params': None,\n",
       " 'n_jobs': None,\n",
       " 'n_neighbors': 7,\n",
       " 'p': 2,\n",
       " 'weights': 'uniform'}"
      ]
     },
     "execution_count": 80,
     "metadata": {},
     "output_type": "execute_result"
    }
   ],
   "source": [
    "\n",
    "#Khai báo model KNN sử dụng các tham số k = 7\n",
    "KNN_wine = KNeighborsClassifier(n_neighbors=7)\n",
    "\n",
    "#Hiển thị danh sách các tham số của thuật toán:\n",
    "KNN_wine.get_params()"
   ]
  },
  {
   "cell_type": "code",
   "execution_count": 81,
   "metadata": {},
   "outputs": [
    {
     "data": {
      "text/plain": [
       "KNeighborsClassifier(n_neighbors=7)"
      ]
     },
     "execution_count": 81,
     "metadata": {},
     "output_type": "execute_result"
    }
   ],
   "source": [
    "#Thực hiện huấn luyện với dữ liệu tập train\n",
    "KNN_wine.fit(X_train,y_train)"
   ]
  },
  {
   "cell_type": "code",
   "execution_count": 82,
   "metadata": {},
   "outputs": [
    {
     "name": "stdout",
     "output_type": "stream",
     "text": [
      "Độ chính xác trên tập huấn luyện: 78.95\n"
     ]
    }
   ],
   "source": [
    "#Đánh giá độ chính xác trên tập huấn luyên:\n",
    "acc_train = KNN_wine.score(X_train,y_train)\n",
    "print('Độ chính xác trên tập huấn luyện:', round(acc_train*100,2))"
   ]
  },
  {
   "cell_type": "code",
   "execution_count": 83,
   "metadata": {},
   "outputs": [
    {
     "name": "stdout",
     "output_type": "stream",
     "text": [
      "Kết quả phân loại wine trên tập dữ liệu TEST:\n",
      "Predicted labels:  [0 0 2 0 1 0 1 2 2 0 2 2 0 1 0 1 1 2 0 1 0 1 2 1 1 1 1 2 1 0 0 1 2 0 0 0 2\n",
      " 2 2 1 0 1 1 0 2]\n",
      "Ground truth    :  [0 0 2 0 1 0 1 2 1 2 0 2 0 1 0 1 1 1 0 1 0 1 1 2 2 2 1 1 1 0 0 1 2 0 0 0 2\n",
      " 2 1 2 0 1 1 1 2]\n"
     ]
    }
   ],
   "source": [
    "#Sử dụng mô hình huấn luyện dự đoán trên tập dữ liệu Test\n",
    "y_pred = KNN_wine.predict(X_test)\n",
    "\n",
    "print(\"Kết quả phân loại wine trên tập dữ liệu TEST:\")\n",
    "print(\"Predicted labels: \", y_pred)\n",
    "print(\"Ground truth    : \", y_test)"
   ]
  },
  {
   "cell_type": "code",
   "execution_count": 84,
   "metadata": {},
   "outputs": [
    {
     "name": "stdout",
     "output_type": "stream",
     "text": [
      "Độ chính xác của mô hình phân lớp wine (k=7): 0.7333333333333333\n",
      "Độ chính xác theo %: 73.33\n"
     ]
    }
   ],
   "source": [
    "from sklearn.metrics import accuracy_score\n",
    "acc1 = accuracy_score(y_test, y_pred)\n",
    "print('Độ chính xác của mô hình phân lớp wine (k=7):', acc1)\n",
    "print('Độ chính xác theo %:', round(acc1*100,2))"
   ]
  },
  {
   "cell_type": "markdown",
   "metadata": {},
   "source": [
    "# k = 11"
   ]
  },
  {
   "cell_type": "code",
   "execution_count": 93,
   "metadata": {},
   "outputs": [
    {
     "data": {
      "text/plain": [
       "KNeighborsClassifier(n_neighbors=11)"
      ]
     },
     "execution_count": 93,
     "metadata": {},
     "output_type": "execute_result"
    }
   ],
   "source": [
    "\n",
    "#Khai báo model KNN sử dụng các tham số k = 11\n",
    "KNN_wine = KNeighborsClassifier(n_neighbors=11)\n",
    "\n",
    "#Hiển thị danh sách các tham số của thuật toán:\n",
    "KNN_wine.get_params()\n",
    "\n",
    "#Thực hiện huấn luyện với dữ liệu tập train\n",
    "KNN_wine.fit(X_train,y_train)\n",
    "\n"
   ]
  },
  {
   "cell_type": "code",
   "execution_count": 94,
   "metadata": {},
   "outputs": [
    {
     "name": "stdout",
     "output_type": "stream",
     "text": [
      "Độ chính xác trên tập huấn luyện: 74.44\n"
     ]
    }
   ],
   "source": [
    "#Đánh giá độ chính xác trên tập huấn luyên:\n",
    "acc_train = KNN_wine.score(X_train,y_train)\n",
    "print('Độ chính xác trên tập huấn luyện:', round(acc_train*100,2))"
   ]
  },
  {
   "cell_type": "code",
   "execution_count": 95,
   "metadata": {},
   "outputs": [
    {
     "name": "stdout",
     "output_type": "stream",
     "text": [
      "Kết quả phân loại wine trên tập dữ liệu TEST:\n",
      "Predicted labels:  [0 0 1 0 1 0 2 0 2 0 0 2 0 1 0 1 1 2 0 1 0 1 2 2 1 2 1 2 1 0 0 1 0 0 0 0 2\n",
      " 1 2 2 0 1 1 0 2]\n",
      "Ground truth    :  [0 0 2 0 1 0 1 2 1 2 0 2 0 1 0 1 1 1 0 1 0 1 1 2 2 2 1 1 1 0 0 1 2 0 0 0 2\n",
      " 2 1 2 0 1 1 1 2]\n"
     ]
    }
   ],
   "source": [
    "#Sử dụng mô hình huấn luyện dự đoán trên tập dữ liệu Test\n",
    "y_pred = KNN_wine.predict(X_test)\n",
    "\n",
    "print(\"Kết quả phân loại wine trên tập dữ liệu TEST:\")\n",
    "print(\"Predicted labels: \", y_pred)\n",
    "print(\"Ground truth    : \", y_test)"
   ]
  },
  {
   "cell_type": "code",
   "execution_count": 96,
   "metadata": {},
   "outputs": [
    {
     "name": "stdout",
     "output_type": "stream",
     "text": [
      "Độ chính xác của mô hình phân lớp wine (k=11): 0.7111111111111111\n",
      "Độ chính xác theo %: 71.11\n"
     ]
    }
   ],
   "source": [
    "from sklearn.metrics import accuracy_score\n",
    "acc1 = accuracy_score(y_test, y_pred)\n",
    "print('Độ chính xác của mô hình phân lớp wine (k=11):', acc1)\n",
    "print('Độ chính xác theo %:', round(acc1*100,2))"
   ]
  },
  {
   "cell_type": "markdown",
   "metadata": {},
   "source": [
    "# k = 13"
   ]
  },
  {
   "cell_type": "code",
   "execution_count": 97,
   "metadata": {},
   "outputs": [
    {
     "data": {
      "text/plain": [
       "KNeighborsClassifier(n_neighbors=13)"
      ]
     },
     "execution_count": 97,
     "metadata": {},
     "output_type": "execute_result"
    }
   ],
   "source": [
    "\n",
    "#Khai báo model KNN sử dụng các tham số k = 13\n",
    "KNN_wine = KNeighborsClassifier(n_neighbors=13)\n",
    "\n",
    "#Hiển thị danh sách các tham số của thuật toán:\n",
    "KNN_wine.get_params()\n",
    "\n",
    "#Thực hiện huấn luyện với dữ liệu tập train\n",
    "KNN_wine.fit(X_train,y_train)\n"
   ]
  },
  {
   "cell_type": "code",
   "execution_count": 98,
   "metadata": {},
   "outputs": [
    {
     "name": "stdout",
     "output_type": "stream",
     "text": [
      "Độ chính xác trên tập huấn luyện: 73.68\n"
     ]
    }
   ],
   "source": [
    "#Đánh giá độ chính xác trên tập huấn luyên:\n",
    "acc_train = KNN_wine.score(X_train,y_train)\n",
    "print('Độ chính xác trên tập huấn luyện:', round(acc_train*100,2))"
   ]
  },
  {
   "cell_type": "code",
   "execution_count": 99,
   "metadata": {},
   "outputs": [
    {
     "name": "stdout",
     "output_type": "stream",
     "text": [
      "Kết quả phân loại wine trên tập dữ liệu TEST:\n",
      "Predicted labels:  [0 0 1 0 1 0 2 0 2 0 0 2 0 1 0 1 1 2 0 1 0 1 2 2 1 2 1 2 1 0 0 1 0 0 0 0 2\n",
      " 1 2 2 0 1 1 0 2]\n",
      "Ground truth    :  [0 0 2 0 1 0 1 2 1 2 0 2 0 1 0 1 1 1 0 1 0 1 1 2 2 2 1 1 1 0 0 1 2 0 0 0 2\n",
      " 2 1 2 0 1 1 1 2]\n"
     ]
    }
   ],
   "source": [
    "#Sử dụng mô hình huấn luyện dự đoán trên tập dữ liệu Test\n",
    "y_pred = KNN_wine.predict(X_test)\n",
    "\n",
    "print(\"Kết quả phân loại wine trên tập dữ liệu TEST:\")\n",
    "print(\"Predicted labels: \", y_pred)\n",
    "print(\"Ground truth    : \", y_test)"
   ]
  },
  {
   "cell_type": "code",
   "execution_count": 100,
   "metadata": {},
   "outputs": [
    {
     "name": "stdout",
     "output_type": "stream",
     "text": [
      "Độ chính xác của mô hình phân lớp wine (k=11): 0.7111111111111111\n",
      "Độ chính xác theo %: 71.11\n"
     ]
    }
   ],
   "source": [
    "from sklearn.metrics import accuracy_score\n",
    "acc1 = accuracy_score(y_test, y_pred)\n",
    "print('Độ chính xác của mô hình phân lớp wine (k=11):', acc1)\n",
    "print('Độ chính xác theo %:', round(acc1*100,2))"
   ]
  },
  {
   "cell_type": "code",
   "execution_count": null,
   "metadata": {},
   "outputs": [],
   "source": []
  }
 ],
 "metadata": {
  "kernelspec": {
   "display_name": "Python 3 (ipykernel)",
   "language": "python",
   "name": "python3"
  },
  "language_info": {
   "codemirror_mode": {
    "name": "ipython",
    "version": 3
   },
   "file_extension": ".py",
   "mimetype": "text/x-python",
   "name": "python",
   "nbconvert_exporter": "python",
   "pygments_lexer": "ipython3",
   "version": "3.9.12"
  }
 },
 "nbformat": 4,
 "nbformat_minor": 2
}
